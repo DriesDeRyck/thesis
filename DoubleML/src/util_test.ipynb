{
 "cells": [
  {
   "cell_type": "code",
   "id": "initial_id",
   "metadata": {
    "collapsed": true,
    "ExecuteTime": {
     "end_time": "2025-01-17T12:20:00.434581Z",
     "start_time": "2025-01-17T12:20:00.070579Z"
    }
   },
   "source": [
    "import pandas as pd\n",
    "import src.util as util\n"
   ],
   "outputs": [],
   "execution_count": 1
  },
  {
   "metadata": {
    "ExecuteTime": {
     "end_time": "2025-01-17T12:22:47.145317Z",
     "start_time": "2025-01-17T12:22:47.132915Z"
    }
   },
   "cell_type": "code",
   "source": [
    "df = pd.DataFrame({\n",
    "    \"A\": [0, 0, 0, 0, 1],\n",
    "    \"B\": [1, 1, 1, 1, 1],\n",
    "    \"C\": [0, 0, 0, 1, 1],\n",
    "    \"D\": [0, 1, 1, 1, 1],\n",
    "})\n",
    "print(df.head())\n",
    "df = util.drop_sparse_columns(df, 0.70)\n",
    "print(df.head())"
   ],
   "id": "2a9e92d16d5dafe1",
   "outputs": [
    {
     "name": "stdout",
     "output_type": "stream",
     "text": [
      "   A  B  C  D\n",
      "0  0  1  0  0\n",
      "1  0  1  0  1\n",
      "2  0  1  0  1\n",
      "3  0  1  1  1\n",
      "4  1  1  1  1\n",
      "   B  C  D\n",
      "0  1  0  0\n",
      "1  1  0  1\n",
      "2  1  0  1\n",
      "3  1  1  1\n",
      "4  1  1  1\n"
     ]
    }
   ],
   "execution_count": 6
  },
  {
   "metadata": {
    "ExecuteTime": {
     "end_time": "2025-01-17T11:55:21.805865Z",
     "start_time": "2025-01-17T11:55:21.803333Z"
    }
   },
   "cell_type": "code",
   "source": "",
   "id": "cfdd6e1db9c7dc2",
   "outputs": [],
   "execution_count": null
  },
  {
   "metadata": {},
   "cell_type": "code",
   "outputs": [],
   "execution_count": null,
   "source": "",
   "id": "64470d270d24d3a3"
  }
 ],
 "metadata": {
  "kernelspec": {
   "display_name": "Python 3",
   "language": "python",
   "name": "python3"
  },
  "language_info": {
   "codemirror_mode": {
    "name": "ipython",
    "version": 2
   },
   "file_extension": ".py",
   "mimetype": "text/x-python",
   "name": "python",
   "nbconvert_exporter": "python",
   "pygments_lexer": "ipython2",
   "version": "2.7.6"
  }
 },
 "nbformat": 4,
 "nbformat_minor": 5
}
