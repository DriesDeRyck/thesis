{
 "cells": [
  {
   "cell_type": "code",
   "id": "initial_id",
   "metadata": {
    "collapsed": true,
    "ExecuteTime": {
     "end_time": "2025-03-04T15:28:42.942097Z",
     "start_time": "2025-03-04T15:28:41.986782Z"
    }
   },
   "source": [
    "import pandas as pd\n",
    "import numpy as np\n",
    "import matplotlib.pyplot as plt\n",
    "import scipy.stats as stats"
   ],
   "outputs": [],
   "execution_count": 1
  },
  {
   "metadata": {
    "ExecuteTime": {
     "end_time": "2025-02-26T21:34:58.977515Z",
     "start_time": "2025-02-26T21:34:58.681717Z"
    }
   },
   "cell_type": "code",
   "source": [
    "microbes = pd.read_csv('./data/rel_microbes.from_biom.tsv', sep='\\t', index_col=0)\n",
    "metabolites = pd.read_csv('./data/rel_metabolites.from_biom.tsv', sep='\\t', index_col=0)"
   ],
   "id": "f1b4a33785cfe7df",
   "outputs": [],
   "execution_count": 38
  },
  {
   "metadata": {
    "ExecuteTime": {
     "end_time": "2025-02-26T21:35:01.153394Z",
     "start_time": "2025-02-26T21:35:01.148918Z"
    }
   },
   "cell_type": "code",
   "source": [
    "# take small subset of microbes and metabolites\n",
    "microbes = microbes.iloc[[0, 100]]\n",
    "metabolites = metabolites.iloc[[0, 100, 200, 300, 400]]"
   ],
   "id": "746965671dccb48",
   "outputs": [],
   "execution_count": 39
  },
  {
   "metadata": {
    "ExecuteTime": {
     "end_time": "2025-02-26T21:33:07.317204Z",
     "start_time": "2025-02-26T21:33:07.157817Z"
    }
   },
   "cell_type": "code",
   "source": "microbes.sum(axis=1).plot.hist(bins=20)",
   "id": "430fd43e5eeec0ff",
   "outputs": [
    {
     "data": {
      "text/plain": [
       "<Axes: ylabel='Frequency'>"
      ]
     },
     "execution_count": 33,
     "metadata": {},
     "output_type": "execute_result"
    },
    {
     "data": {
      "text/plain": [
       "<Figure size 640x480 with 1 Axes>"
      ],
      "image/png": "[encoded data removed]"
     },
     "metadata": {},
     "output_type": "display_data"
    }
   ],
   "execution_count": 33
  },
  {
   "metadata": {
    "ExecuteTime": {
     "end_time": "2025-02-26T21:13:54.516197Z",
     "start_time": "2025-02-26T21:13:54.512402Z"
    }
   },
   "cell_type": "code",
   "source": "plt.show()",
   "id": "7d436e0fd270c7df",
   "outputs": [],
   "execution_count": 18
  },
  {
   "metadata": {
    "ExecuteTime": {
     "end_time": "2025-02-26T21:13:21.402105Z",
     "start_time": "2025-02-26T21:13:21.383734Z"
    }
   },
   "cell_type": "code",
   "source": "plt.savefig('./figures/microbe_dist.png')",
   "id": "f9add92d335c0584",
   "outputs": [
    {
     "data": {
      "text/plain": [
       "<Figure size 640x480 with 0 Axes>"
      ]
     },
     "metadata": {},
     "output_type": "display_data"
    }
   ],
   "execution_count": 15
  },
  {
   "metadata": {
    "ExecuteTime": {
     "end_time": "2025-02-26T21:35:08.049479Z",
     "start_time": "2025-02-26T21:35:08.045788Z"
    }
   },
   "cell_type": "code",
   "source": [
    "print(f\"Microbe shape: {microbes.shape}\")\n",
    "print(f\"Metabolite shape: {metabolites.shape}\")"
   ],
   "id": "b7f954b85f3632b3",
   "outputs": [
    {
     "name": "stdout",
     "output_type": "stream",
     "text": [
      "Microbe shape: (2, 1260)\n",
      "Metabolite shape: (5, 1260)\n"
     ]
    }
   ],
   "execution_count": 40
  },
  {
   "metadata": {
    "ExecuteTime": {
     "end_time": "2025-02-26T21:35:17.924715Z",
     "start_time": "2025-02-26T21:35:17.878399Z"
    }
   },
   "cell_type": "code",
   "source": [
    "microbes.to_csv('./data/microbes_normalized.tsv', sep='\\t', index=True)\n",
    "metabolites.to_csv('./data/metabolites_normalized.tsv', sep='\\t', index=True)"
   ],
   "id": "b057da320acb305b",
   "outputs": [],
   "execution_count": 41
  },
  {
   "metadata": {
    "ExecuteTime": {
     "end_time": "2025-02-26T21:35:27.433290Z",
     "start_time": "2025-02-26T21:35:24.991793Z"
    }
   },
   "cell_type": "code",
   "source": "! python ../../src/correlation_test.py",
   "id": "812d41f44138a4a5",
   "outputs": [
    {
     "name": "stdout",
     "output_type": "stream",
     "text": [
      "100%|█████████████████████████████████████████████| 2/2 [00:00<00:00, 85.55it/s]\r\n",
      "pvalues mean: 0.5837407854902444, pvalues std: 0.2366254367542727\r\n"
     ]
    }
   ],
   "execution_count": 42
  },
  {
   "metadata": {
    "ExecuteTime": {
     "end_time": "2025-03-04T16:02:42.378858Z",
     "start_time": "2025-03-04T16:01:49.107621Z"
    }
   },
   "cell_type": "code",
   "source": "! python ../../src/DML.py",
   "id": "a3aca825c0619576",
   "outputs": [
    {
     "name": "stdout",
     "output_type": "stream",
     "text": [
      "  0%|                                                     | 0/5 [00:00<?, ?it/s]\r\n",
      "  0%|                                                     | 0/2 [00:00<?, ?it/s]\u001B[A\r\n",
      " 50%|██████████████████████▌                      | 1/2 [00:06<00:06,  6.61s/it]\u001B[A\r\n",
      "100%|█████████████████████████████████████████████| 2/2 [00:11<00:00,  5.83s/it]\u001B[A\r\n",
      " 20%|█████████                                    | 1/5 [00:11<00:46, 11.66s/it]\r\n",
      "  0%|                                                     | 0/2 [00:00<?, ?it/s]\u001B[A\r\n",
      " 50%|██████████████████████▌                      | 1/2 [00:04<00:04,  4.85s/it]\u001B[A\r\n",
      "100%|█████████████████████████████████████████████| 2/2 [00:09<00:00,  4.96s/it]\u001B[A\r\n",
      " 40%|██████████████████                           | 2/5 [00:21<00:31, 10.64s/it]\r\n",
      "  0%|                                                     | 0/2 [00:00<?, ?it/s]\u001B[A\r\n",
      " 50%|██████████████████████▌                      | 1/2 [00:04<00:04,  4.77s/it]\u001B[A\r\n",
      "100%|█████████████████████████████████████████████| 2/2 [00:09<00:00,  4.78s/it]\u001B[A\r\n",
      " 60%|███████████████████████████                  | 3/5 [00:31<00:20, 10.14s/it]\r\n",
      "  0%|                                                     | 0/2 [00:00<?, ?it/s]\u001B[A\r\n",
      " 50%|██████████████████████▌                      | 1/2 [00:04<00:04,  4.83s/it]\u001B[A\r\n",
      "100%|█████████████████████████████████████████████| 2/2 [00:09<00:00,  4.80s/it]\u001B[A\r\n",
      " 80%|████████████████████████████████████         | 4/5 [00:40<00:09,  9.93s/it]\r\n",
      "  0%|                                                     | 0/2 [00:00<?, ?it/s]\u001B[A\r\n",
      " 50%|██████████████████████▌                      | 1/2 [00:04<00:04,  4.74s/it]\u001B[A\r\n",
      "100%|█████████████████████████████████████████████| 2/2 [00:09<00:00,  4.75s/it]\u001B[A\r\n",
      "100%|█████████████████████████████████████████████| 5/5 [00:50<00:00, 10.05s/it]\r\n",
      "pvalues mean: 0.12369975236931638, pvalues std: 0.233261691620734\r\n"
     ]
    }
   ],
   "execution_count": 20
  },
  {
   "metadata": {
    "ExecuteTime": {
     "end_time": "2025-02-26T21:42:43.528493Z",
     "start_time": "2025-02-26T21:42:43.469912Z"
    }
   },
   "cell_type": "code",
   "source": [
    "for microbe in microbes.index:\n",
    "    for metabolite in metabolites.index:\n",
    "        rho, p_value = stats.spearmanr(microbes.loc[microbe], metabolites.loc[metabolite])\n",
    "        print(microbe, metabolite, f\"rho: {rho}\")\n"
   ],
   "id": "f3e04a9a16078ba4",
   "outputs": [
    {
     "name": "stdout",
     "output_type": "stream",
     "text": [
      "theta_p_0 P_0 rho: -0.013276641819274564\n",
      "theta_p_0 SA_0 rho: -0.017022363523223026\n",
      "theta_p_0 F_0 rho: 0.012703947803325018\n",
      "theta_p_0 SG_0 rho: -0.0020827098334936555\n",
      "theta_p_0 I_0 rho: 0.02396867467450798\n",
      "theta_f_0 P_0 rho: 0.03435549577620519\n",
      "theta_f_0 SA_0 rho: -0.001775183831414621\n",
      "theta_f_0 F_0 rho: 0.02136970661353285\n",
      "theta_f_0 SG_0 rho: -0.00926187250461525\n",
      "theta_f_0 I_0 rho: 0.029162898491679714\n"
     ]
    }
   ],
   "execution_count": 48
  },
  {
   "metadata": {
    "ExecuteTime": {
     "end_time": "2025-03-04T15:51:31.598416Z",
     "start_time": "2025-03-04T15:51:31.594792Z"
    }
   },
   "cell_type": "code",
   "source": "# print([(i, j) for j in range(10) for i in range(10)])",
   "id": "21b80ff8c306ac75",
   "outputs": [],
   "execution_count": 17
  },
  {
   "metadata": {
    "ExecuteTime": {
     "end_time": "2025-03-04T16:07:10.556105Z",
     "start_time": "2025-03-04T16:07:05.734596Z"
    }
   },
   "cell_type": "code",
   "source": "! python ../../src/DML_parallel.py",
   "id": "2a207d4949d6b9b6",
   "outputs": [
    {
     "name": "stdout",
     "output_type": "stream",
     "text": [
      "1.8539\r\n",
      "0.001\r\n"
     ]
    }
   ],
   "execution_count": 25
  },
  {
   "metadata": {},
   "cell_type": "code",
   "outputs": [],
   "execution_count": null,
   "source": "",
   "id": "471b28719f88577"
  }
 ],
 "metadata": {
  "kernelspec": {
   "display_name": "Python 3",
   "language": "python",
   "name": "python3"
  },
  "language_info": {
   "codemirror_mode": {
    "name": "ipython",
    "version": 2
   },
   "file_extension": ".py",
   "mimetype": "text/x-python",
   "name": "python",
   "nbconvert_exporter": "python",
   "pygments_lexer": "ipython2",
   "version": "2.7.6"
  }
 },
 "nbformat": 4,
 "nbformat_minor": 5
}
