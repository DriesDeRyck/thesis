{
 "cells": [
  {
   "cell_type": "code",
   "id": "initial_id",
   "metadata": {
    "collapsed": true,
    "ExecuteTime": {
     "end_time": "2025-03-18T14:04:39.665441Z",
     "start_time": "2025-03-18T14:04:38.383288Z"
    }
   },
   "source": [
    "import pandas as pd\n",
    "import numpy as np\n",
    "import matplotlib.pyplot as plt\n",
    "import scipy.stats as stats"
   ],
   "outputs": [],
   "execution_count": 1
  },
  {
   "metadata": {
    "ExecuteTime": {
     "end_time": "2025-03-05T17:23:11.476675Z",
     "start_time": "2025-03-05T17:23:11.202126Z"
    }
   },
   "cell_type": "code",
   "source": [
    "microbes = pd.read_csv('./data/rel_microbes.from_biom.tsv', sep='\\t', index_col=0)\n",
    "metabolites = pd.read_csv('./data/rel_metabolites.from_biom.tsv', sep='\\t', index_col=0)"
   ],
   "id": "f1b4a33785cfe7df",
   "outputs": [],
   "execution_count": 34
  },
  {
   "metadata": {
    "ExecuteTime": {
     "end_time": "2025-03-05T17:23:13.328196Z",
     "start_time": "2025-03-05T17:23:13.322226Z"
    }
   },
   "cell_type": "code",
   "source": [
    "# take small subset of microbes and metabolites\n",
    "microbes = microbes.iloc[0:200]\n",
    "metabolites = metabolites.iloc[401:411]\n",
    "microbes.shape"
   ],
   "id": "746965671dccb48",
   "outputs": [
    {
     "data": {
      "text/plain": [
       "(200, 1260)"
      ]
     },
     "execution_count": 35,
     "metadata": {},
     "output_type": "execute_result"
    }
   ],
   "execution_count": 35
  },
  {
   "metadata": {
    "ExecuteTime": {
     "end_time": "2025-03-05T15:35:06.158856Z",
     "start_time": "2025-03-05T15:35:05.922804Z"
    }
   },
   "cell_type": "code",
   "source": [
    "microbes.sum(axis=0).plot.hist(bins=20)\n",
    "metabolites.shape"
   ],
   "id": "430fd43e5eeec0ff",
   "outputs": [
    {
     "data": {
      "text/plain": [
       "(20, 1260)"
      ]
     },
     "execution_count": 31,
     "metadata": {},
     "output_type": "execute_result"
    },
    {
     "data": {
      "text/plain": [
       "<Figure size 640x480 with 1 Axes>"
      ],
      "image/png": "[encoded data removed]"
     },
     "metadata": {},
     "output_type": "display_data"
    }
   ],
   "execution_count": 31
  },
  {
   "metadata": {
    "ExecuteTime": {
     "end_time": "2025-03-05T15:32:53.335470Z",
     "start_time": "2025-03-05T15:32:53.331823Z"
    }
   },
   "cell_type": "code",
   "source": "plt.show()",
   "id": "7d436e0fd270c7df",
   "outputs": [],
   "execution_count": 26
  },
  {
   "metadata": {
    "ExecuteTime": {
     "end_time": "2025-03-05T15:32:56.060043Z",
     "start_time": "2025-03-05T15:32:56.040754Z"
    }
   },
   "cell_type": "code",
   "source": "plt.savefig('./figures/microbe_dist.png')",
   "id": "f9add92d335c0584",
   "outputs": [
    {
     "data": {
      "text/plain": [
       "<Figure size 640x480 with 0 Axes>"
      ]
     },
     "metadata": {},
     "output_type": "display_data"
    }
   ],
   "execution_count": 27
  },
  {
   "metadata": {
    "ExecuteTime": {
     "end_time": "2025-03-05T17:23:16.949692Z",
     "start_time": "2025-03-05T17:23:16.945186Z"
    }
   },
   "cell_type": "code",
   "source": [
    "print(f\"Microbe shape: {microbes.shape}\")\n",
    "print(f\"Metabolite shape: {metabolites.shape}\")"
   ],
   "id": "b7f954b85f3632b3",
   "outputs": [
    {
     "name": "stdout",
     "output_type": "stream",
     "text": [
      "Microbe shape: (200, 1260)\n",
      "Metabolite shape: (10, 1260)\n"
     ]
    }
   ],
   "execution_count": 36
  },
  {
   "metadata": {
    "ExecuteTime": {
     "end_time": "2025-03-05T17:23:20.011624Z",
     "start_time": "2025-03-05T17:23:19.728483Z"
    }
   },
   "cell_type": "code",
   "source": [
    "microbes.to_csv('./data/microbes_normalized.tsv', sep='\\t', index=True)\n",
    "metabolites.to_csv('./data/metabolites_normalized.tsv', sep='\\t', index=True)"
   ],
   "id": "b057da320acb305b",
   "outputs": [],
   "execution_count": 37
  },
  {
   "metadata": {
    "ExecuteTime": {
     "end_time": "2025-03-05T14:29:38.247725Z",
     "start_time": "2025-03-05T14:29:35.757682Z"
    }
   },
   "cell_type": "code",
   "source": "! python ../../src/correlation_test.py",
   "id": "812d41f44138a4a5",
   "outputs": [
    {
     "name": "stdout",
     "output_type": "stream",
     "text": [
      "100%|█████████████████████████████████████████████| 2/2 [00:00<00:00, 87.53it/s]\r\n",
      "pvalues mean: 0.5837407854902444, pvalues std: 0.2366254367542727\r\n"
     ]
    }
   ],
   "execution_count": 5
  },
  {
   "metadata": {
    "ExecuteTime": {
     "end_time": "2025-03-04T16:02:42.378858Z",
     "start_time": "2025-03-04T16:01:49.107621Z"
    }
   },
   "cell_type": "code",
   "source": "! python ../../src/DML.py",
   "id": "a3aca825c0619576",
   "outputs": [
    {
     "name": "stdout",
     "output_type": "stream",
     "text": [
      "  0%|                                                     | 0/5 [00:00<?, ?it/s]\r\n",
      "  0%|                                                     | 0/2 [00:00<?, ?it/s]\u001B[A\r\n",
      " 50%|██████████████████████▌                      | 1/2 [00:06<00:06,  6.61s/it]\u001B[A\r\n",
      "100%|█████████████████████████████████████████████| 2/2 [00:11<00:00,  5.83s/it]\u001B[A\r\n",
      " 20%|█████████                                    | 1/5 [00:11<00:46, 11.66s/it]\r\n",
      "  0%|                                                     | 0/2 [00:00<?, ?it/s]\u001B[A\r\n",
      " 50%|██████████████████████▌                      | 1/2 [00:04<00:04,  4.85s/it]\u001B[A\r\n",
      "100%|█████████████████████████████████████████████| 2/2 [00:09<00:00,  4.96s/it]\u001B[A\r\n",
      " 40%|██████████████████                           | 2/5 [00:21<00:31, 10.64s/it]\r\n",
      "  0%|                                                     | 0/2 [00:00<?, ?it/s]\u001B[A\r\n",
      " 50%|██████████████████████▌                      | 1/2 [00:04<00:04,  4.77s/it]\u001B[A\r\n",
      "100%|█████████████████████████████████████████████| 2/2 [00:09<00:00,  4.78s/it]\u001B[A\r\n",
      " 60%|███████████████████████████                  | 3/5 [00:31<00:20, 10.14s/it]\r\n",
      "  0%|                                                     | 0/2 [00:00<?, ?it/s]\u001B[A\r\n",
      " 50%|██████████████████████▌                      | 1/2 [00:04<00:04,  4.83s/it]\u001B[A\r\n",
      "100%|█████████████████████████████████████████████| 2/2 [00:09<00:00,  4.80s/it]\u001B[A\r\n",
      " 80%|████████████████████████████████████         | 4/5 [00:40<00:09,  9.93s/it]\r\n",
      "  0%|                                                     | 0/2 [00:00<?, ?it/s]\u001B[A\r\n",
      " 50%|██████████████████████▌                      | 1/2 [00:04<00:04,  4.74s/it]\u001B[A\r\n",
      "100%|█████████████████████████████████████████████| 2/2 [00:09<00:00,  4.75s/it]\u001B[A\r\n",
      "100%|█████████████████████████████████████████████| 5/5 [00:50<00:00, 10.05s/it]\r\n",
      "pvalues mean: 0.12369975236931638, pvalues std: 0.233261691620734\r\n"
     ]
    }
   ],
   "execution_count": 20
  },
  {
   "metadata": {
    "ExecuteTime": {
     "end_time": "2025-02-26T21:42:43.528493Z",
     "start_time": "2025-02-26T21:42:43.469912Z"
    }
   },
   "cell_type": "code",
   "source": [
    "for microbe in microbes.index:\n",
    "    for metabolite in metabolites.index:\n",
    "        rho, p_value = stats.spearmanr(microbes.loc[microbe], metabolites.loc[metabolite])\n",
    "        print(microbe, metabolite, f\"rho: {rho}\")\n"
   ],
   "id": "f3e04a9a16078ba4",
   "outputs": [
    {
     "name": "stdout",
     "output_type": "stream",
     "text": [
      "theta_p_0 P_0 rho: -0.013276641819274564\n",
      "theta_p_0 SA_0 rho: -0.017022363523223026\n",
      "theta_p_0 F_0 rho: 0.012703947803325018\n",
      "theta_p_0 SG_0 rho: -0.0020827098334936555\n",
      "theta_p_0 I_0 rho: 0.02396867467450798\n",
      "theta_f_0 P_0 rho: 0.03435549577620519\n",
      "theta_f_0 SA_0 rho: -0.001775183831414621\n",
      "theta_f_0 F_0 rho: 0.02136970661353285\n",
      "theta_f_0 SG_0 rho: -0.00926187250461525\n",
      "theta_f_0 I_0 rho: 0.029162898491679714\n"
     ]
    }
   ],
   "execution_count": 48
  },
  {
   "metadata": {
    "ExecuteTime": {
     "end_time": "2025-03-04T15:51:31.598416Z",
     "start_time": "2025-03-04T15:51:31.594792Z"
    }
   },
   "cell_type": "code",
   "source": "# print([(i, j) for j in range(10) for i in range(10)])",
   "id": "21b80ff8c306ac75",
   "outputs": [],
   "execution_count": 17
  },
  {
   "metadata": {
    "ExecuteTime": {
     "end_time": "2025-03-05T17:14:15.951269Z",
     "start_time": "2025-03-05T17:11:34.974654Z"
    }
   },
   "cell_type": "code",
   "source": "! python ../../src/DML_parallel.py",
   "id": "2a207d4949d6b9b6",
   "outputs": [
    {
     "name": "stdout",
     "output_type": "stream",
     "text": [
      "theta_f_10, I_1\r\n",
      "theta_f_14, I_1\r\n",
      "theta_f_1, I_1\r\n",
      "theta_f_11, I_1\r\n",
      "theta_f_15, I_1\r\n",
      "theta_f_0, I_1\r\n",
      "theta_f_12, I_1\r\n",
      "theta_f_13, I_1\r\n",
      "theta_f_16, I_1\r\n",
      "theta_f_17, I_1\r\n",
      "theta_f_18, I_1\r\n",
      "theta_f_19, I_1\r\n",
      "theta_f_2, I_1\r\n",
      "theta_f_20, I_1\r\n",
      "theta_f_21, I_1\r\n",
      "theta_f_22, I_1\r\n",
      "theta_f_23, I_1\r\n",
      "theta_f_24, I_1\r\n",
      "theta_f_25, I_1\r\n",
      "theta_f_26, I_1\r\n",
      "theta_f_27, I_1\r\n",
      "theta_f_28, I_1\r\n",
      "theta_f_29, I_1\r\n",
      "theta_f_3, I_1\r\n",
      "theta_f_30, I_1\r\n",
      "theta_f_31, I_1\r\n",
      "theta_f_32, I_1\r\n",
      "theta_f_33, I_1\r\n",
      "theta_f_34, I_1\r\n",
      "theta_f_35, I_1\r\n",
      "theta_f_36, I_1\r\n",
      "theta_f_37, I_1\r\n",
      "theta_f_38, I_1\r\n",
      "theta_f_39, I_1\r\n",
      "theta_f_4, I_1\r\n",
      "theta_f_40, I_1\r\n",
      "theta_f_41, I_1\r\n",
      "theta_f_42, I_1\r\n",
      "theta_f_43, I_1\r\n",
      "theta_f_44, I_1\r\n",
      "theta_f_45, I_1\r\n",
      "theta_f_46, I_1\r\n",
      "theta_f_47, I_1\r\n",
      "theta_f_48, I_1\r\n",
      "theta_f_49, I_1\r\n",
      "theta_f_5, I_1\r\n",
      "theta_f_50, I_1\r\n",
      "theta_f_51, I_1\r\n",
      "theta_f_52, I_1\r\n",
      "theta_f_53, I_1\r\n",
      "theta_f_54, I_1\r\n",
      "theta_f_55, I_1\r\n",
      "theta_f_56, I_1\r\n",
      "theta_f_57, I_1\r\n",
      "theta_f_58, I_1\r\n",
      "theta_f_59, I_1\r\n",
      "theta_f_6, I_1\r\n",
      "theta_f_60, I_1\r\n",
      "theta_f_61, I_1\r\n",
      "theta_f_62, I_1\r\n",
      "theta_f_63, I_1\r\n",
      "theta_f_64, I_1\r\n",
      "theta_f_65, I_1\r\n",
      "theta_f_66, I_1\r\n",
      "theta_f_67, I_1\r\n",
      "theta_f_68, I_1\r\n",
      "theta_f_69, I_1\r\n",
      "theta_f_7, I_1\r\n",
      "theta_f_70, I_1\r\n",
      "theta_f_71, I_1\r\n",
      "theta_f_72, I_1\r\n",
      "theta_f_73, I_1\r\n",
      "theta_f_74, I_1\r\n",
      "theta_f_75, I_1\r\n",
      "theta_f_76, I_1\r\n",
      "theta_f_77, I_1\r\n",
      "theta_f_78, I_1\r\n",
      "theta_f_79, I_1\r\n",
      "theta_f_8, I_1\r\n",
      "theta_f_80, I_1\r\n",
      "theta_f_81, I_1\r\n",
      "theta_f_82, I_1\r\n",
      "theta_f_83, I_1\r\n",
      "theta_f_84, I_1\r\n",
      "theta_f_85, I_1\r\n",
      "theta_f_86, I_1\r\n",
      "theta_f_87, I_1\r\n",
      "theta_f_88, I_1\r\n",
      "theta_f_89, I_1\r\n",
      "theta_f_9, I_1\r\n",
      "theta_f_90, I_1\r\n",
      "theta_f_91, I_1\r\n",
      "theta_f_92, I_1\r\n",
      "theta_f_93, I_1\r\n",
      "theta_f_94, I_1\r\n",
      "theta_f_95, I_1\r\n",
      "theta_f_96, I_1\r\n",
      "theta_f_97, I_1\r\n",
      "theta_f_98, I_1\r\n",
      "theta_f_99, I_1\r\n",
      "theta_p_0, I_1\r\n",
      "theta_p_1, I_1\r\n",
      "theta_p_10, I_1\r\n",
      "theta_p_11, I_1\r\n",
      "theta_p_12, I_1\r\n",
      "theta_p_13, I_1\r\n",
      "theta_p_14, I_1\r\n",
      "theta_p_15, I_1\r\n",
      "theta_p_16, I_1\r\n",
      "theta_p_17, I_1\r\n",
      "theta_p_18, I_1\r\n",
      "theta_p_19, I_1\r\n",
      "theta_p_2, I_1\r\n",
      "theta_p_20, I_1\r\n",
      "theta_p_21, I_1\r\n",
      "theta_p_22, I_1\r\n",
      "theta_p_23, I_1\r\n",
      "theta_p_24, I_1\r\n",
      "theta_p_25, I_1\r\n",
      "theta_p_26, I_1\r\n",
      "theta_p_27, I_1\r\n",
      "theta_p_28, I_1\r\n",
      "theta_p_29, I_1\r\n",
      "theta_p_3, I_1\r\n",
      "theta_p_30, I_1\r\n",
      "theta_p_31, I_1\r\n",
      "theta_p_32, I_1\r\n",
      "theta_p_33, I_1\r\n",
      "theta_p_34, I_1\r\n",
      "theta_p_35, I_1\r\n",
      "theta_p_36, I_1\r\n",
      "theta_p_37, I_1\r\n",
      "theta_p_38, I_1\r\n",
      "theta_p_39, I_1\r\n",
      "theta_p_4, I_1\r\n",
      "theta_p_40, I_1\r\n",
      "theta_p_41, I_1\r\n",
      "theta_p_42, I_1\r\n",
      "theta_p_43, I_1\r\n",
      "theta_p_44, I_1\r\n",
      "theta_p_45, I_1\r\n",
      "theta_p_46, I_1\r\n",
      "theta_p_47, I_1\r\n",
      "theta_p_48, I_1\r\n",
      "theta_p_49, I_1\r\n",
      "theta_p_5, I_1\r\n",
      "theta_p_50, I_1\r\n",
      "theta_p_51, I_1\r\n",
      "theta_p_52, I_1\r\n",
      "theta_p_53, I_1\r\n",
      "theta_p_54, I_1\r\n",
      "theta_p_55, I_1\r\n",
      "theta_p_56, I_1\r\n",
      "theta_p_57, I_1\r\n",
      "theta_p_58, I_1\r\n",
      "theta_p_59, I_1\r\n",
      "theta_p_6, I_1\r\n",
      "theta_p_60, I_1\r\n",
      "theta_p_61, I_1\r\n",
      "theta_p_62, I_1\r\n",
      "theta_p_63, I_1\r\n",
      "theta_p_64, I_1\r\n",
      "theta_p_65, I_1\r\n",
      "theta_p_66, I_1\r\n",
      "theta_p_67, I_1\r\n",
      "theta_p_68, I_1\r\n",
      "theta_p_69, I_1\r\n",
      "theta_p_7, I_1\r\n",
      "theta_p_70, I_1\r\n",
      "theta_p_71, I_1\r\n",
      "theta_p_72, I_1\r\n",
      "theta_p_73, I_1\r\n",
      "theta_p_74, I_1\r\n",
      "theta_p_75, I_1\r\n",
      "theta_p_76, I_1\r\n",
      "theta_p_77, I_1\r\n",
      "theta_p_78, I_1\r\n",
      "theta_p_79, I_1\r\n",
      "theta_p_8, I_1\r\n",
      "theta_p_80, I_1\r\n",
      "theta_p_81, I_1\r\n",
      "theta_p_82, I_1\r\n",
      "theta_p_83, I_1\r\n",
      "theta_p_84, I_1\r\n",
      "theta_p_85, I_1\r\n",
      "theta_p_86, I_1\r\n",
      "theta_p_87, I_1\r\n",
      "theta_p_88, I_1\r\n",
      "theta_p_89, I_1\r\n",
      "theta_p_9, I_1\r\n",
      "theta_p_90, I_1\r\n",
      "theta_p_91, I_1\r\n",
      "theta_p_92, I_1\r\n",
      "theta_p_93, I_1\r\n",
      "theta_p_94, I_1\r\n",
      "theta_p_95, I_1\r\n",
      "theta_p_96, I_1\r\n",
      "theta_p_97, I_1\r\n",
      "theta_p_98, I_1\r\n",
      "theta_p_99, I_1\r\n",
      "theta_f_0, I_10\r\n",
      "theta_f_1, I_10\r\n",
      "theta_f_10, I_10\r\n",
      "theta_f_11, I_10\r\n",
      "theta_f_12, I_10\r\n",
      "theta_f_13, I_10\r\n",
      "theta_f_14, I_10\r\n",
      "theta_f_15, I_10\r\n",
      "theta_f_16, I_10\r\n",
      "theta_f_17, I_10\r\n",
      "theta_f_18, I_10\r\n",
      "theta_f_19, I_10\r\n",
      "theta_f_2, I_10\r\n",
      "theta_f_20, I_10\r\n",
      "theta_f_21, I_10\r\n",
      "theta_f_22, I_10\r\n",
      "theta_f_23, I_10\r\n",
      "theta_f_24, I_10\r\n",
      "theta_f_25, I_10\r\n",
      "theta_f_26, I_10\r\n",
      "theta_f_27, I_10\r\n",
      "theta_f_28, I_10\r\n",
      "theta_f_29, I_10\r\n",
      "theta_f_3, I_10\r\n",
      "theta_f_30, I_10\r\n",
      "theta_f_31, I_10\r\n",
      "theta_f_32, I_10\r\n",
      "theta_f_33, I_10\r\n",
      "theta_f_34, I_10\r\n",
      "theta_f_35, I_10\r\n",
      "theta_f_36, I_10\r\n",
      "theta_f_37, I_10\r\n",
      "theta_f_38, I_10\r\n",
      "theta_f_39, I_10\r\n",
      "theta_f_4, I_10\r\n",
      "theta_f_40, I_10\r\n",
      "theta_f_41, I_10\r\n",
      "theta_f_42, I_10\r\n",
      "^C\r\n",
      "theta_f_43, I_10\r\n",
      "theta_f_44, I_10\r\n",
      "theta_f_45, I_10\r\n",
      "theta_f_46, I_10\r\n",
      "theta_f_47, I_10\r\n",
      "theta_f_48, I_10\r\n",
      "theta_f_49, I_10\r\n",
      "Traceback (most recent call last):\r\n",
      "  File \"/home/dries/if/ma2/thesis/DoubleML/data/small_benchmark/../../src/DML_parallel.py\", line 73, in <module>\r\n",
      "    output = Parallel(n_jobs=-1)(delayed(single_dml_calculation)(i, j) for j in metabolite_names for i in microbe_names)\r\n",
      "             ^^^^^^^^^^^^^^^^^^^^^^^^^^^^^^^^^^^^^^^^^^^^^^^^^^^^^^^^^^^^^^^^^^^^^^^^^^^^^^^^^^^^^^^^^^^^^^^^^^^^^^^^^^^\r\n",
      "  File \"/home/dries/if/ma2/thesis/DoubleML/.venv/lib/python3.11/site-packages/joblib/parallel.py\", line 2007, in __call__\r\n",
      "    return output if self.return_generator else list(output)\r\n",
      "                                                ^^^^^^^^^^^^\r\n",
      "  File \"/home/dries/if/ma2/thesis/DoubleML/.venv/lib/python3.11/site-packages/joblib/parallel.py\", line 1650, in _get_outputs\r\n",
      "    yield from self._retrieve()\r\n",
      "  File \"/home/dries/if/ma2/thesis/DoubleML/.venv/lib/python3.11/site-packages/joblib/parallel.py\", line 1762, in _retrieve\r\n",
      "    time.sleep(0.01)\r\n",
      "KeyboardInterrupt\r\n"
     ]
    }
   ],
   "execution_count": 33
  },
  {
   "metadata": {},
   "cell_type": "code",
   "outputs": [],
   "execution_count": null,
   "source": "! python ../../src/DML_parallel.py",
   "id": "471b28719f88577"
  }
 ],
 "metadata": {
  "kernelspec": {
   "display_name": "Python 3",
   "language": "python",
   "name": "python3"
  },
  "language_info": {
   "codemirror_mode": {
    "name": "ipython",
    "version": 2
   },
   "file_extension": ".py",
   "mimetype": "text/x-python",
   "name": "python",
   "nbconvert_exporter": "python",
   "pygments_lexer": "ipython2",
   "version": "2.7.6"
  }
 },
 "nbformat": 4,
 "nbformat_minor": 5
}
