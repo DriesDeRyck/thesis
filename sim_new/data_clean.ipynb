{
 "cells": [
  {
   "metadata": {
    "ExecuteTime": {
     "end_time": "2025-06-10T19:12:20.120144Z",
     "start_time": "2025-06-10T19:12:20.116779Z"
    }
   },
   "cell_type": "code",
   "source": "import pandas as pd",
   "id": "408225bafa23b85a",
   "outputs": [],
   "execution_count": 1
  },
  {
   "metadata": {
    "ExecuteTime": {
     "end_time": "2025-06-04T15:06:12.203241Z",
     "start_time": "2025-06-04T15:06:10.110228Z"
    }
   },
   "cell_type": "code",
   "source": [
    "microbes = pd.read_csv(\"./data/rel.microbes.tsv\", sep=\"\\t\", index_col=0, header=1)\n",
    "metabolites = pd.read_csv(\"./data/rel.metab.tsv\", sep=\"\\t\", index_col=0, header=1)\n",
    "# order the columns of the microbes the same as the columns of the metabolites\n",
    "microbes = microbes.reindex(columns=metabolites.columns)\n",
    "# save dataframes to file\n",
    "microbes.to_csv(\"./data/microbes.tsv\", sep=\"\\t\", index=True)\n",
    "metabolites.to_csv(\"./data/metabolites.tsv\", sep=\"\\t\", index=True)"
   ],
   "id": "initial_id",
   "outputs": [],
   "execution_count": 2
  },
  {
   "metadata": {
    "ExecuteTime": {
     "end_time": "2025-06-10T19:13:37.304457Z",
     "start_time": "2025-06-10T19:13:35.075183Z"
    }
   },
   "cell_type": "code",
   "source": [
    "abs_microbes = pd.read_csv(\"./data/abs.microbes.tsv\", sep=\"\\t\", index_col=0, header=1)\n",
    "abs_metabolites = pd.read_csv(\"./data/abs.metab.tsv\", sep=\"\\t\", index_col=0, header=1)\n",
    "# order the columns of the microbes the same as the columns of the metabolites\n",
    "abs_microbes = abs_microbes.reindex(columns=abs_metabolites.columns)\n",
    "# save dataframes to file\n",
    "abs_microbes.to_csv(\"./data/abs_microbes.tsv\", sep=\"\\t\", index=True)\n",
    "abs_metabolites.to_csv(\"./data/abs_metabolites.tsv\", sep=\"\\t\", index=True)"
   ],
   "id": "23c159bf464ea477",
   "outputs": [],
   "execution_count": 4
  },
  {
   "metadata": {},
   "cell_type": "code",
   "outputs": [],
   "execution_count": null,
   "source": "",
   "id": "479aee20168e95e6"
  }
 ],
 "metadata": {
  "kernelspec": {
   "display_name": "Python 3",
   "language": "python",
   "name": "python3"
  },
  "language_info": {
   "codemirror_mode": {
    "name": "ipython",
    "version": 2
   },
   "file_extension": ".py",
   "mimetype": "text/x-python",
   "name": "python",
   "nbconvert_exporter": "python",
   "pygments_lexer": "ipython2",
   "version": "2.7.6"
  }
 },
 "nbformat": 4,
 "nbformat_minor": 5
}
