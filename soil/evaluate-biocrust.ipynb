{
 "cells": [
  {
   "cell_type": "code",
   "metadata": {
    "ExecuteTime": {
     "end_time": "2025-06-10T12:03:49.855888Z",
     "start_time": "2025-06-10T12:03:49.849712Z"
    }
   },
   "source": [
    "import os\n",
    "import numpy as np\n",
    "import pandas as pd\n",
    "# import tensorflow as tf\n",
    "from biom import load_table\n",
    "import matplotlib.pyplot as plt\n",
    "import matplotlib as mpl\n",
    "import seaborn as sns\n",
    "#from gneiss.util import match\n",
    "from scipy.spatial import KDTree\n",
    "from scipy.stats import rankdata\n",
    "from skbio.stats.composition import clr, clr_inv, centralize\n",
    "from sklearn.neighbors import NearestNeighbors, KDTree\n",
    "from skbio.stats.ordination import OrdinationResults\n",
    "from scipy.spatial.distance import euclidean\n",
    "from scipy.stats import spearmanr\n",
    "from src.evaluate import _edge_roc_curve\n",
    "import datetime\n",
    "from matplotlib import rc\n",
    "import matplotlib\n",
    "%matplotlib inline"
   ],
   "outputs": [],
   "execution_count": 128
  },
  {
   "cell_type": "markdown",
   "metadata": {},
   "source": [
    "# Evaluate True Positive rate of methods\n",
    "\n",
    "Since we have annotations, we should be able to do this."
   ]
  },
  {
   "cell_type": "code",
   "metadata": {
    "ExecuteTime": {
     "end_time": "2025-06-10T12:03:49.919681Z",
     "start_time": "2025-06-10T12:03:49.916142Z"
    }
   },
   "source": [
    "# tools = ['mmvec', 'spearman', 'pearson', 'sparcc', 'phi', 'rho', 'spiec-easi']\n",
    "tools = ['mmvec']\n",
    "# fnames = [\n",
    "#     'mmvec_ranks.csv',\n",
    "#     'soils_spearman.txt',\n",
    "#     'soils_pearson.txt',\n",
    "#     'cor_matrix_soil_SparCC.csv',\n",
    "#     'prop_matrix_soil_PHI.csv',\n",
    "#     'prop_matrix_soil_RHO.csv',\n",
    "#     'weights_soil_SPIECEASI.csv'\n",
    "# ]\n",
    "fnames = ['mmvec_ranks.csv']"
   ],
   "outputs": [],
   "execution_count": 129
  },
  {
   "cell_type": "code",
   "metadata": {
    "ExecuteTime": {
     "end_time": "2025-06-10T12:03:50.799074Z",
     "start_time": "2025-06-10T12:03:50.021935Z"
    }
   },
   "source": "!ls ./results/other_ranks",
   "outputs": [
    {
     "name": "stdout",
     "output_type": "stream",
     "text": [
      "cor_matrix_soil_SparCC.csv     prop_matrix_soil_RHO.csv\r\n",
      "edgelist_soil_SEmultitest.csv  soils_pearson.txt\r\n",
      "mmvec_ranks.csv\t\t       soils_spearman.txt\r\n",
      "prop_matrix_soil_PHI.csv       weights_soil_SPIECEASI.csv\r\n"
     ]
    }
   ],
   "execution_count": 130
  },
  {
   "cell_type": "code",
   "metadata": {
    "ExecuteTime": {
     "end_time": "2025-06-10T12:03:50.879001Z",
     "start_time": "2025-06-10T12:03:50.874708Z"
    }
   },
   "source": [
    "select_microbes = ['rplo 1 (Cyanobacteria)', 'rplo 2 (Firmicutes)',\n",
    "                   'rplo 60 (Firmicutes)', 'rplo 7 (Actinobacteria)']\n",
    "microcoleus_metabolites = ['(3-methyladenine)', '7-methyladenine', '4-guanidinobutanoate', 'uracil',\n",
    "                           'xanthine', 'hypoxanthine', '(N6-acetyl-lysine)', 'cytosine',\n",
    "                           'N-acetylornithine', 'N-acetyl-glutamate', 'succinate',\n",
    "                           'adenosine', 'guanine', 'adenine']"
   ],
   "outputs": [],
   "execution_count": 131
  },
  {
   "cell_type": "code",
   "metadata": {
    "ExecuteTime": {
     "end_time": "2025-06-10T12:03:50.962696Z",
     "start_time": "2025-06-10T12:03:50.944059Z"
    }
   },
   "source": "ranks = pd.read_csv(os.path.join('./results/other_ranks', fnames[0]), index_col=0)",
   "outputs": [],
   "execution_count": 132
  },
  {
   "cell_type": "code",
   "metadata": {
    "ExecuteTime": {
     "end_time": "2025-06-10T12:03:51.060139Z",
     "start_time": "2025-06-10T12:03:51.055956Z"
    }
   },
   "source": [
    "sensitivity = lambda x: x['TP'] / (x['TP'] + x['FN'])\n",
    "specificity = lambda x: x['TN'] / (x['TN'] + x['FP'])\n",
    "precision = lambda x: x['TP'] / (x['TP'] + x['FP'])\n",
    "recall = lambda x: x['TP'] / (x['TP'] + x['FN'])\n",
    "f1 = lambda x: 2 * x['precision'] * x['recall'] / (x['precision'] + x['recall'])"
   ],
   "outputs": [],
   "execution_count": 133
  },
  {
   "cell_type": "code",
   "metadata": {
    "ExecuteTime": {
     "end_time": "2025-06-10T12:03:51.180075Z",
     "start_time": "2025-06-10T12:03:51.170512Z"
    }
   },
   "source": [
    "edges = pd.DataFrame(list(zip(['rplo 1 (Cyanobacteria)'] * len(microcoleus_metabolites),\n",
    "                              microcoleus_metabolites)), columns=['microbe', 'metabolite'])\n",
    "edges['direction'] = 'R'\n",
    "\n",
    "microbes = list(ranks.columns)\n",
    "metabolites = list(ranks.columns)\n",
    "other_metabolites = list(set(metabolites) - set(microcoleus_metabolites))\n",
    "\n",
    "other_edges = pd.DataFrame(other_metabolites, columns=['metabolite'])\n",
    "other_edges['microbe'] = 'rplo 1 (Cyanobacteria)'\n",
    "other_edges['direction'] = 0\n",
    "\n",
    "edges = pd.concat((edges, other_edges), axis=0)\n",
    "edges = edges[['microbe', 'metabolite', 'direction']]"
   ],
   "outputs": [],
   "execution_count": 134
  },
  {
   "cell_type": "code",
   "metadata": {
    "ExecuteTime": {
     "end_time": "2025-06-10T12:03:51.352435Z",
     "start_time": "2025-06-10T12:03:51.281534Z"
    }
   },
   "source": [
    "# read ranks from specified other tools\n",
    "def read_df(fname):\n",
    "    if '.txt' in fname:\n",
    "        return pd.read_table(os.path.join('./results/other_ranks', fname),\n",
    "                             index_col=0)\n",
    "    else:\n",
    "        return pd.read_csv(os.path.join('./results/other_ranks', fname),\n",
    "                           index_col=0)\n",
    "\n",
    "\n",
    "rankz = list(map(read_df, fnames))\n",
    "\n",
    "# read ranks from DML\n",
    "# rankz.append(pd.read_csv(os.path.join('./results/original_data', 'coefficients.tsv'), sep=\"\\t\", index_col=0).T)\n",
    "# rankz.append(pd.read_csv(os.path.join('./results/soil_output', 'dml_ranks_norm.tsv'), sep=\"\\t\", index_col=0).T)\n",
    "# rankz.append(pd.read_csv(os.path.join('./results/original_data_lr', 'coefficients.tsv'), sep=\"\\t\", index_col=0).T)\n",
    "# rankz.append(pd.read_csv(os.path.join('./results/boost_original_data', 'coefficients.tsv'), sep=\"\\t\", index_col=0).T)\n",
    "rankz.append(pd.read_csv(os.path.join('./results/xgboost_original_data', 'coefficients.tsv'), sep=\"\\t\", index_col=0).T)\n",
    "rankz.append(pd.read_csv(os.path.join('./results/xgboost_clr', 'coefficients.tsv'), sep=\"\\t\", index_col=0).T)\n",
    "rankz.append(pd.read_csv(os.path.join('./results/xgboost_clr_sep', 'coefficients.tsv'), sep=\"\\t\", index_col=0).T)\n",
    "# rankz.append(pd.read_csv(os.path.join('./results/soil_output', 'dml_ranks_lr_clr_sc.tsv'), sep=\"\\t\", index_col=0).T)\n",
    "# rankz.append(pd.read_csv(os.path.join('./results/soil_output', 'dml_ranks_boost.tsv'), sep=\"\\t\", index_col=0).T)\n",
    "# rankz.append(pd.read_csv(os.path.join('./results/soil_output', 'dml_ranks_boost_clr_sc.tsv'), sep=\"\\t\", index_col=0).T)\n",
    "# rankz.append(pd.read_csv(os.path.join('./results/clr', 'coefficients.tsv'), sep=\"\\t\", index_col=0).T)\n",
    "# rankz.append(pd.read_csv(os.path.join('./results/clr_sc', 'coefficients.tsv'), sep=\"\\t\", index_col=0).T)\n",
    "# rankz.append(pd.read_csv(os.path.join('./results/clr_min', 'coefficients.tsv'), sep=\"\\t\", index_col=0).T)\n",
    "# rankz.append(pd.read_csv(os.path.join('./results/clr_sc_min', 'coefficients.tsv'), sep=\"\\t\", index_col=0).T)\n",
    "# rankz.append(pd.read_csv(os.path.join('./results/clr_sep', 'coefficients.tsv'), sep=\"\\t\", index_col=0).T)\n",
    "# rankz.append(pd.read_csv(os.path.join('./results/clr_sep_min', 'coefficients.tsv'), sep=\"\\t\", index_col=0).T)\n",
    "\n",
    "# rankz.append(pd.read_csv(os.path.join('./results/automl_rf_short', 'coefficients.tsv'), sep=\"\\t\", index_col=0).T)\n",
    "# rankz.append(pd.read_csv(os.path.join('./results/automl_rf_short_clr', 'coefficients.tsv'), sep=\"\\t\", index_col=0).T)\n",
    "# rankz.append(pd.read_csv(os.path.join('./results/automl_xgboost_short', 'coefficients.tsv'), sep=\"\\t\", index_col=0).T)\n",
    "# rankz.append(pd.read_csv(os.path.join('./results/automl_xgboost_short_clr', 'coefficients.tsv'), sep=\"\\t\", index_col=0).T)\n",
    "# rankz.append(pd.read_csv(os.path.join('./results/automl_rf_long', 'coefficients.tsv'), sep=\"\\t\", index_col=0).T)\n",
    "# rankz.append(pd.read_csv(os.path.join('./results/automl_rf_long_clr', 'coefficients.tsv'), sep=\"\\t\", index_col=0).T)\n",
    "# rankz.append(pd.read_csv(os.path.join('./results/automl_xgboost_long', 'coefficients.tsv'), sep=\"\\t\", index_col=0).T)\n",
    "# rankz.append(pd.read_csv(os.path.join('./results/automl_xgboost_long_clr', 'coefficients.tsv'), sep=\"\\t\", index_col=0).T)"
   ],
   "outputs": [],
   "execution_count": 135
  },
  {
   "cell_type": "code",
   "metadata": {
    "ExecuteTime": {
     "end_time": "2025-06-10T12:03:53.618192Z",
     "start_time": "2025-06-10T12:03:51.419326Z"
    }
   },
   "source": [
    "def roc_f(ranks, tool):\n",
    "    r = ranks.T[['rplo 1 (Cyanobacteria)']].loc[metabolites].T\n",
    "    if tool == 'phi':\n",
    "        r = 1 / r\n",
    "\n",
    "    res = _edge_roc_curve(r, edges, k_max=85)\n",
    "    return res\n",
    "\n",
    "# Include DML rank names\n",
    "# tools.append('DML rf')\n",
    "# tools.append('DML_Norm')\n",
    "# tools.append('DML lr')\n",
    "# tools.append('DML lr CLR sc')\n",
    "# tools.append('DML boost')\n",
    "# tools.append('DML boost CLR sc')\n",
    "tools.append('DML xgboost')\n",
    "tools.append('DML xgboost clr')\n",
    "tools.append('DML xgboost clr(sep)')\n",
    "# tools.append('DML CLR')\n",
    "# tools.append('DML CLR (sc)')\n",
    "# tools.append('DML CLR (min)')\n",
    "# tools.append('DML CLR (sc min)')\n",
    "# tools.append('DML CLR sep')\n",
    "# tools.append('DML CLR sep (min)')\n",
    "#\n",
    "# tools.append('DML automl rf (short)')\n",
    "# tools.append('DML automl rf clr (short)')\n",
    "# tools.append('DML automl xgboost (short)')\n",
    "# tools.append('DML automl xgboost clr (short)')\n",
    "# tools.append('DML automl rf (long)')\n",
    "# tools.append('DML automl rf clr (long)')\n",
    "# tools.append('DML automl xgboost (long)')\n",
    "# tools.append('DML automl xgboost clr (long)')\n",
    "rocs = list(map(lambda x: roc_f(x[0], x[1]), zip(rankz, tools)))"
   ],
   "outputs": [],
   "execution_count": 136
  },
  {
   "cell_type": "code",
   "metadata": {
    "ExecuteTime": {
     "end_time": "2025-06-10T12:03:53.775498Z",
     "start_time": "2025-06-10T12:03:53.685647Z"
    }
   },
   "source": [
    "for res in rocs:\n",
    "    for df in res:\n",
    "        df['TPR'] = df.apply(sensitivity, axis=1)\n",
    "        df['TNR'] = df.apply(specificity, axis=1)\n",
    "        df['precision'] = df.apply(precision, axis=1)\n",
    "        df['recall'] = df.apply(recall, axis=1)\n",
    "        df['f1_score'] = df.apply(f1, axis=1)"
   ],
   "outputs": [
    {
     "name": "stderr",
     "output_type": "stream",
     "text": [
      "/tmp/ipykernel_8446/1052544215.py:1: RuntimeWarning: invalid value encountered in long_scalars\n",
      "  sensitivity = lambda x: x['TP'] / (x['TP'] + x['FN'])\n",
      "/tmp/ipykernel_8446/1052544215.py:4: RuntimeWarning: invalid value encountered in double_scalars\n",
      "  recall = lambda x: x['TP'] / (x['TP'] + x['FN'])\n",
      "/tmp/ipykernel_8446/1052544215.py:1: RuntimeWarning: invalid value encountered in long_scalars\n",
      "  sensitivity = lambda x: x['TP'] / (x['TP'] + x['FN'])\n",
      "/tmp/ipykernel_8446/1052544215.py:4: RuntimeWarning: invalid value encountered in double_scalars\n",
      "  recall = lambda x: x['TP'] / (x['TP'] + x['FN'])\n",
      "/tmp/ipykernel_8446/1052544215.py:5: RuntimeWarning: invalid value encountered in double_scalars\n",
      "  f1 = lambda x: 2 * x['precision'] * x['recall'] / (x['precision'] + x['recall'])\n",
      "/tmp/ipykernel_8446/1052544215.py:1: RuntimeWarning: invalid value encountered in long_scalars\n",
      "  sensitivity = lambda x: x['TP'] / (x['TP'] + x['FN'])\n",
      "/tmp/ipykernel_8446/1052544215.py:4: RuntimeWarning: invalid value encountered in double_scalars\n",
      "  recall = lambda x: x['TP'] / (x['TP'] + x['FN'])\n",
      "/tmp/ipykernel_8446/1052544215.py:1: RuntimeWarning: invalid value encountered in long_scalars\n",
      "  sensitivity = lambda x: x['TP'] / (x['TP'] + x['FN'])\n",
      "/tmp/ipykernel_8446/1052544215.py:4: RuntimeWarning: invalid value encountered in double_scalars\n",
      "  recall = lambda x: x['TP'] / (x['TP'] + x['FN'])\n",
      "/tmp/ipykernel_8446/1052544215.py:5: RuntimeWarning: invalid value encountered in double_scalars\n",
      "  f1 = lambda x: 2 * x['precision'] * x['recall'] / (x['precision'] + x['recall'])\n",
      "/tmp/ipykernel_8446/1052544215.py:1: RuntimeWarning: invalid value encountered in long_scalars\n",
      "  sensitivity = lambda x: x['TP'] / (x['TP'] + x['FN'])\n",
      "/tmp/ipykernel_8446/1052544215.py:4: RuntimeWarning: invalid value encountered in double_scalars\n",
      "  recall = lambda x: x['TP'] / (x['TP'] + x['FN'])\n",
      "/tmp/ipykernel_8446/1052544215.py:1: RuntimeWarning: invalid value encountered in long_scalars\n",
      "  sensitivity = lambda x: x['TP'] / (x['TP'] + x['FN'])\n",
      "/tmp/ipykernel_8446/1052544215.py:4: RuntimeWarning: invalid value encountered in double_scalars\n",
      "  recall = lambda x: x['TP'] / (x['TP'] + x['FN'])\n",
      "/tmp/ipykernel_8446/1052544215.py:5: RuntimeWarning: invalid value encountered in double_scalars\n",
      "  f1 = lambda x: 2 * x['precision'] * x['recall'] / (x['precision'] + x['recall'])\n",
      "/tmp/ipykernel_8446/1052544215.py:1: RuntimeWarning: invalid value encountered in long_scalars\n",
      "  sensitivity = lambda x: x['TP'] / (x['TP'] + x['FN'])\n",
      "/tmp/ipykernel_8446/1052544215.py:4: RuntimeWarning: invalid value encountered in double_scalars\n",
      "  recall = lambda x: x['TP'] / (x['TP'] + x['FN'])\n",
      "/tmp/ipykernel_8446/1052544215.py:1: RuntimeWarning: invalid value encountered in long_scalars\n",
      "  sensitivity = lambda x: x['TP'] / (x['TP'] + x['FN'])\n",
      "/tmp/ipykernel_8446/1052544215.py:4: RuntimeWarning: invalid value encountered in double_scalars\n",
      "  recall = lambda x: x['TP'] / (x['TP'] + x['FN'])\n"
     ]
    }
   ],
   "execution_count": 137
  },
  {
   "cell_type": "code",
   "metadata": {
    "ExecuteTime": {
     "end_time": "2025-06-10T12:03:54.196458Z",
     "start_time": "2025-06-10T12:03:53.854725Z"
    }
   },
   "source": [
    "# mpl.rcParams['axes.prop_cycle'] = mpl.cycler(color=[\"k\", \"b\", \"g\", \"r\", \"y\"])\n",
    "fig, ax = plt.subplots(figsize=(6, 4))\n",
    "#plt.subplots_adjust(wspace=0.4, hspace=0.5)\n",
    "\n",
    "for i, (tool, roc) in enumerate(zip(tools, rocs)):\n",
    "    lw = 3 - 1.5 * i / len(rocs)\n",
    "    ls = ['-', '-', '--', '-.', ':'][i % 4]\n",
    "    colors = [\"C0\", \"C4\", \"C5\", \"C6\"] # colors for xgboost figure\n",
    "    ax.plot(roc[0]['TP'], label=tool, linewidth=lw, linestyle=ls, color=colors[i])\n",
    "    ax.set_ylabel('True positives', fontsize=18)\n",
    "    ax.set_xlabel('top K hits', fontsize=18)\n",
    "    ax.tick_params(axis=\"x\", labelsize=14)\n",
    "    ax.tick_params(axis=\"y\", labelsize=14)\n",
    "    ax.xaxis.set_major_locator(plt.MaxNLocator(4))\n",
    "    ax.yaxis.set_major_locator(plt.MaxNLocator(4))\n",
    "\n",
    "ax.set_title('Microcoleus molecular detection rate', fontsize=18)\n",
    "ax.legend(loc='center left', bbox_to_anchor=(1, 0.5), fontsize=14)\n",
    "\n",
    "timestamp = datetime.datetime.now().strftime(\"%Y-%m-%d_%H:%M:%S\")\n",
    "plt.savefig(f\"./figures/biocrust_clr_{timestamp}.png\", bbox_inches='tight')"
   ],
   "outputs": [
    {
     "data": {
      "text/plain": [
       "<Figure size 600x400 with 1 Axes>"
      ],
      "image/png": "[encoded data removed]"
     },
     "metadata": {},
     "output_type": "display_data"
    }
   ],
   "execution_count": 138
  },
  {
   "metadata": {
    "ExecuteTime": {
     "end_time": "2025-06-10T12:15:20.510200Z",
     "start_time": "2025-06-10T12:15:20.491211Z"
    }
   },
   "cell_type": "code",
   "source": [
    "rankings = {}\n",
    "for i in range(len(rankz)):\n",
    "    print(tools[i])\n",
    "    test = rankz[i].T[['rplo 1 (Cyanobacteria)']]\n",
    "    coeff = test.sort_values('rplo 1 (Cyanobacteria)', ascending=False)\n",
    "    coeff['rank'] = range(0, coeff.shape[0])\n",
    "    coeff = coeff.loc[microcoleus_metabolites].sort_values('rank')\n",
    "    print(coeff)\n",
    "    rankings[tools[i]] = coeff"
   ],
   "outputs": [
    {
     "name": "stdout",
     "output_type": "stream",
     "text": [
      "mmvec\n",
      "                      rplo 1 (Cyanobacteria)  rank\n",
      "adenosine                           5.036277     0\n",
      "adenine                             4.912609     1\n",
      "(N6-acetyl-lysine)                  4.389718     2\n",
      "4-guanidinobutanoate                4.026928     3\n",
      "cytosine                            3.163511     6\n",
      "guanine                             3.013095     9\n",
      "uracil                              1.736077    19\n",
      "N-acetylornithine                   1.205776    24\n",
      "(3-methyladenine)                   0.888059    29\n",
      "succinate                           0.826163    30\n",
      "xanthine                            0.740586    31\n",
      "hypoxanthine                        0.645392    35\n",
      "7-methyladenine                     0.267562    38\n",
      "N-acetyl-glutamate                 -0.762944    52\n",
      "DML xgboost\n",
      "                      rplo 1 (Cyanobacteria)  rank\n",
      "adenosine                      142024.124739     1\n",
      "adenine                        141540.572908     2\n",
      "guanine                         24719.184792     4\n",
      "(N6-acetyl-lysine)              10221.953860     5\n",
      "uracil                           3223.999838    10\n",
      "hypoxanthine                     2992.442553    11\n",
      "(3-methyladenine)                1104.676942    16\n",
      "N-acetyl-glutamate                241.419808    22\n",
      "cytosine                          165.927120    24\n",
      "N-acetylornithine               -1122.859343    62\n",
      "succinate                       -1544.333477    64\n",
      "xanthine                        -4261.492796    72\n",
      "7-methyladenine                 -8907.901401    77\n",
      "4-guanidinobutanoate           -63342.997745    84\n",
      "DML xgboost clr\n",
      "                      rplo 1 (Cyanobacteria)  rank\n",
      "xanthine                            1.038182     5\n",
      "7-methyladenine                     1.033272     7\n",
      "hypoxanthine                        1.025715    12\n",
      "guanine                             1.020303    16\n",
      "uracil                              1.015149    23\n",
      "(3-methyladenine)                   1.012911    25\n",
      "(N6-acetyl-lysine)                  1.011070    32\n",
      "4-guanidinobutanoate                1.010370    34\n",
      "N-acetyl-glutamate                  1.008222    37\n",
      "adenine                             1.004369    47\n",
      "succinate                           1.003064    48\n",
      "N-acetylornithine                   1.000861    50\n",
      "cytosine                            0.997683    54\n",
      "adenosine                           0.986321    65\n",
      "DML xgboost clr(sep)\n",
      "                      rplo 1 (Cyanobacteria)  rank\n",
      "xanthine                            0.059374     4\n",
      "(3-methyladenine)                   0.049679    25\n",
      "hypoxanthine                        0.049665    26\n",
      "N-acetyl-glutamate                  0.049422    30\n",
      "adenine                             0.046950    36\n",
      "guanine                             0.046723    37\n",
      "N-acetylornithine                   0.042885    47\n",
      "uracil                              0.037749    52\n",
      "adenosine                           0.034553    56\n",
      "(N6-acetyl-lysine)                  0.033817    57\n",
      "7-methyladenine                     0.033179    59\n",
      "4-guanidinobutanoate                0.027188    70\n",
      "succinate                           0.026412    71\n",
      "cytosine                           -0.003323    83\n"
     ]
    }
   ],
   "execution_count": 139
  },
  {
   "metadata": {
    "ExecuteTime": {
     "end_time": "2025-06-10T12:58:34.956895Z",
     "start_time": "2025-06-10T12:58:34.948152Z"
    }
   },
   "cell_type": "code",
   "source": [
    "table_str = \"\"\n",
    "for tool in tools:\n",
    "    table_str += (tool + \" & \")\n",
    "table_str = table_str[:-2]\n",
    "table_str += (\"\\\\\\ \\hline \\hline \\n\")\n",
    "for i in range(len(rankings[tools[0]])):\n",
    "    for tool, ranking in rankings.items():\n",
    "        table_str += (ranking.index[i] + \" & \")\n",
    "    table_str = table_str[:-2]\n",
    "    table_str += (\"\\\\\\ \\n\")\n",
    "    for tool, ranking in rankings.items():\n",
    "        table_str += (\"(\" + str(ranking['rplo 1 (Cyanobacteria)'][i])[:8] + \")\" + \" & \")\n",
    "    table_str = table_str[:-2]\n",
    "    table_str += (\"\\\\\\ \\hline \\n\")\n",
    "\n",
    "print(table_str)"
   ],
   "outputs": [
    {
     "name": "stdout",
     "output_type": "stream",
     "text": [
      "mmvec & DML xgboost & DML xgboost clr & DML xgboost clr(sep) \\\\ \\hline \n",
      "adenosine & adenosine & xanthine & xanthine \\\\ \n",
      "(5.036276) & (142024.1) & (1.038181) & (0.059374) \\\\ \\hline \n",
      "adenine & adenine & 7-methyladenine & (3-methyladenine) \\\\ \n",
      "(4.912608) & (141540.5) & (1.033271) & (0.049679) \\\\ \\hline \n",
      "(N6-acetyl-lysine) & guanine & hypoxanthine & hypoxanthine \\\\ \n",
      "(4.389717) & (24719.18) & (1.025715) & (0.049665) \\\\ \\hline \n",
      "4-guanidinobutanoate & (N6-acetyl-lysine) & guanine & N-acetyl-glutamate \\\\ \n",
      "(4.026928) & (10221.95) & (1.020302) & (0.049421) \\\\ \\hline \n",
      "cytosine & uracil & uracil & adenine \\\\ \n",
      "(3.163511) & (3223.999) & (1.015149) & (0.046949) \\\\ \\hline \n",
      "guanine & hypoxanthine & (3-methyladenine) & guanine \\\\ \n",
      "(3.013095) & (2992.442) & (1.012911) & (0.046723) \\\\ \\hline \n",
      "uracil & (3-methyladenine) & (N6-acetyl-lysine) & N-acetylornithine \\\\ \n",
      "(1.736077) & (1104.676) & (1.011070) & (0.042884) \\\\ \\hline \n",
      "N-acetylornithine & N-acetyl-glutamate & 4-guanidinobutanoate & uracil \\\\ \n",
      "(1.205776) & (241.4198) & (1.010369) & (0.037748) \\\\ \\hline \n",
      "(3-methyladenine) & cytosine & N-acetyl-glutamate & adenosine \\\\ \n",
      "(0.888059) & (165.9271) & (1.008222) & (0.034552) \\\\ \\hline \n",
      "succinate & N-acetylornithine & adenine & (N6-acetyl-lysine) \\\\ \n",
      "(0.826162) & (-1122.85) & (1.004369) & (0.033817) \\\\ \\hline \n",
      "xanthine & succinate & succinate & 7-methyladenine \\\\ \n",
      "(0.740585) & (-1544.33) & (1.003064) & (0.033179) \\\\ \\hline \n",
      "hypoxanthine & xanthine & N-acetylornithine & 4-guanidinobutanoate \\\\ \n",
      "(0.645391) & (-4261.49) & (1.000861) & (0.027188) \\\\ \\hline \n",
      "7-methyladenine & 7-methyladenine & cytosine & succinate \\\\ \n",
      "(0.267561) & (-8907.90) & (0.997682) & (0.026412) \\\\ \\hline \n",
      "N-acetyl-glutamate & 4-guanidinobutanoate & adenosine & cytosine \\\\ \n",
      "(-0.76294) & (-63342.9) & (0.986320) & (-0.00332) \\\\ \\hline \n",
      "\n"
     ]
    },
    {
     "name": "stderr",
     "output_type": "stream",
     "text": [
      "/tmp/ipykernel_8446/2283841103.py:12: FutureWarning: Series.__getitem__ treating keys as positions is deprecated. In a future version, integer keys will always be treated as labels (consistent with DataFrame behavior). To access a value by position, use `ser.iloc[pos]`\n",
      "  table_str += (\"(\" + str(ranking['rplo 1 (Cyanobacteria)'][i])[:8] + \")\" + \" & \")\n"
     ]
    }
   ],
   "execution_count": 155
  },
  {
   "metadata": {},
   "cell_type": "code",
   "outputs": [],
   "execution_count": null,
   "source": ""
  }
 ],
 "metadata": {
  "kernelspec": {
   "display_name": "Python 3",
   "language": "python",
   "name": "python3"
  },
  "language_info": {
   "codemirror_mode": {
    "name": "ipython",
    "version": 3
   },
   "file_extension": ".py",
   "mimetype": "text/x-python",
   "name": "python",
   "nbconvert_exporter": "python",
   "pygments_lexer": "ipython3",
   "version": "3.7.3"
  }
 },
 "nbformat": 4,
 "nbformat_minor": 2
}
