{
 "cells": [
  {
   "cell_type": "code",
   "metadata": {
    "ExecuteTime": {
     "end_time": "2025-06-10T11:27:36.433334Z",
     "start_time": "2025-06-10T11:27:36.423854Z"
    }
   },
   "source": [
    "import os\n",
    "import numpy as np\n",
    "import pandas as pd\n",
    "# import tensorflow as tf\n",
    "from biom import load_table\n",
    "import matplotlib.pyplot as plt\n",
    "import matplotlib as mpl\n",
    "import seaborn as sns\n",
    "#from gneiss.util import match\n",
    "from scipy.spatial import KDTree\n",
    "from scipy.stats import rankdata\n",
    "from skbio.stats.composition import clr, clr_inv, centralize\n",
    "from sklearn.neighbors import NearestNeighbors, KDTree\n",
    "from skbio.stats.ordination import OrdinationResults\n",
    "from scipy.spatial.distance import euclidean\n",
    "from scipy.stats import spearmanr\n",
    "from src.evaluate import _edge_roc_curve\n",
    "import datetime\n",
    "from matplotlib import rc\n",
    "import matplotlib\n",
    "%matplotlib inline"
   ],
   "outputs": [],
   "execution_count": 55
  },
  {
   "cell_type": "markdown",
   "metadata": {},
   "source": [
    "# Evaluate True Positive rate of methods\n",
    "\n",
    "Since we have annotations, we should be able to do this."
   ]
  },
  {
   "cell_type": "code",
   "metadata": {
    "ExecuteTime": {
     "end_time": "2025-06-10T11:27:36.500784Z",
     "start_time": "2025-06-10T11:27:36.498063Z"
    }
   },
   "source": [
    "# tools = ['mmvec', 'spearman', 'pearson', 'sparcc', 'phi', 'rho', 'spiec-easi']\n",
    "tools = ['mmvec']\n",
    "# fnames = [\n",
    "#     'mmvec_ranks.csv',\n",
    "#     'soils_spearman.txt',\n",
    "#     'soils_pearson.txt',\n",
    "#     'cor_matrix_soil_SparCC.csv',\n",
    "#     'prop_matrix_soil_PHI.csv',\n",
    "#     'prop_matrix_soil_RHO.csv',\n",
    "#     'weights_soil_SPIECEASI.csv'\n",
    "# ]\n",
    "fnames = ['mmvec_ranks.csv']"
   ],
   "outputs": [],
   "execution_count": 56
  },
  {
   "cell_type": "code",
   "metadata": {
    "ExecuteTime": {
     "end_time": "2025-06-10T11:27:37.400162Z",
     "start_time": "2025-06-10T11:27:36.650118Z"
    }
   },
   "source": "!ls ./results/other_ranks",
   "outputs": [
    {
     "name": "stdout",
     "output_type": "stream",
     "text": [
      "cor_matrix_soil_SparCC.csv     prop_matrix_soil_RHO.csv\r\n",
      "edgelist_soil_SEmultitest.csv  soils_pearson.txt\r\n",
      "mmvec_ranks.csv\t\t       soils_spearman.txt\r\n",
      "prop_matrix_soil_PHI.csv       weights_soil_SPIECEASI.csv\r\n"
     ]
    }
   ],
   "execution_count": 57
  },
  {
   "cell_type": "code",
   "metadata": {
    "ExecuteTime": {
     "end_time": "2025-06-10T11:27:37.506398Z",
     "start_time": "2025-06-10T11:27:37.501600Z"
    }
   },
   "source": [
    "select_microbes = ['rplo 1 (Cyanobacteria)', 'rplo 2 (Firmicutes)',\n",
    "                   'rplo 60 (Firmicutes)', 'rplo 7 (Actinobacteria)']\n",
    "microcoleus_metabolites = ['(3-methyladenine)', '7-methyladenine', '4-guanidinobutanoate', 'uracil',\n",
    "                           'xanthine', 'hypoxanthine', '(N6-acetyl-lysine)', 'cytosine',\n",
    "                           'N-acetylornithine', 'N-acetyl-glutamate', 'succinate',\n",
    "                           'adenosine', 'guanine', 'adenine']"
   ],
   "outputs": [],
   "execution_count": 58
  },
  {
   "cell_type": "code",
   "metadata": {
    "ExecuteTime": {
     "end_time": "2025-06-10T11:27:37.588031Z",
     "start_time": "2025-06-10T11:27:37.571422Z"
    }
   },
   "source": "ranks = pd.read_csv(os.path.join('./results/other_ranks', fnames[0]), index_col=0)",
   "outputs": [],
   "execution_count": 59
  },
  {
   "cell_type": "code",
   "metadata": {
    "ExecuteTime": {
     "end_time": "2025-06-10T11:27:37.677558Z",
     "start_time": "2025-06-10T11:27:37.672483Z"
    }
   },
   "source": [
    "sensitivity = lambda x: x['TP'] / (x['TP'] + x['FN'])\n",
    "specificity = lambda x: x['TN'] / (x['TN'] + x['FP'])\n",
    "precision = lambda x: x['TP'] / (x['TP'] + x['FP'])\n",
    "recall = lambda x: x['TP'] / (x['TP'] + x['FN'])\n",
    "f1 = lambda x: 2 * x['precision'] * x['recall'] / (x['precision'] + x['recall'])"
   ],
   "outputs": [],
   "execution_count": 60
  },
  {
   "cell_type": "code",
   "metadata": {
    "ExecuteTime": {
     "end_time": "2025-06-10T11:27:37.789081Z",
     "start_time": "2025-06-10T11:27:37.780097Z"
    }
   },
   "source": [
    "edges = pd.DataFrame(list(zip(['rplo 1 (Cyanobacteria)'] * len(microcoleus_metabolites),\n",
    "                              microcoleus_metabolites)), columns=['microbe', 'metabolite'])\n",
    "edges['direction'] = 'R'\n",
    "\n",
    "microbes = list(ranks.columns)\n",
    "metabolites = list(ranks.columns)\n",
    "other_metabolites = list(set(metabolites) - set(microcoleus_metabolites))\n",
    "\n",
    "other_edges = pd.DataFrame(other_metabolites, columns=['metabolite'])\n",
    "other_edges['microbe'] = 'rplo 1 (Cyanobacteria)'\n",
    "other_edges['direction'] = 0\n",
    "\n",
    "edges = pd.concat((edges, other_edges), axis=0)\n",
    "edges = edges[['microbe', 'metabolite', 'direction']]"
   ],
   "outputs": [],
   "execution_count": 61
  },
  {
   "cell_type": "code",
   "metadata": {
    "ExecuteTime": {
     "end_time": "2025-06-10T11:27:37.993675Z",
     "start_time": "2025-06-10T11:27:37.920418Z"
    }
   },
   "source": [
    "# read ranks from specified other tools\n",
    "def read_df(fname):\n",
    "    if '.txt' in fname:\n",
    "        return pd.read_table(os.path.join('./results/other_ranks', fname),\n",
    "                             index_col=0)\n",
    "    else:\n",
    "        return pd.read_csv(os.path.join('./results/other_ranks', fname),\n",
    "                           index_col=0)\n",
    "\n",
    "\n",
    "rankz = list(map(read_df, fnames))\n",
    "\n",
    "# read ranks from DML\n",
    "# rankz.append(pd.read_csv(os.path.join('./results/original_data', 'coefficients.tsv'), sep=\"\\t\", index_col=0).T)\n",
    "# rankz.append(pd.read_csv(os.path.join('./results/soil_output', 'dml_ranks_norm.tsv'), sep=\"\\t\", index_col=0).T)\n",
    "# rankz.append(pd.read_csv(os.path.join('./results/original_data_lr', 'coefficients.tsv'), sep=\"\\t\", index_col=0).T)\n",
    "# rankz.append(pd.read_csv(os.path.join('./results/boost_original_data', 'coefficients.tsv'), sep=\"\\t\", index_col=0).T)\n",
    "rankz.append(pd.read_csv(os.path.join('./results/xgboost_original_data', 'coefficients.tsv'), sep=\"\\t\", index_col=0).T)\n",
    "rankz.append(pd.read_csv(os.path.join('./results/xgboost_clr', 'coefficients.tsv'), sep=\"\\t\", index_col=0).T)\n",
    "rankz.append(pd.read_csv(os.path.join('./results/xgboost_clr_sep', 'coefficients.tsv'), sep=\"\\t\", index_col=0).T)\n",
    "# rankz.append(pd.read_csv(os.path.join('./results/soil_output', 'dml_ranks_lr_clr_sc.tsv'), sep=\"\\t\", index_col=0).T)\n",
    "# rankz.append(pd.read_csv(os.path.join('./results/soil_output', 'dml_ranks_boost.tsv'), sep=\"\\t\", index_col=0).T)\n",
    "# rankz.append(pd.read_csv(os.path.join('./results/soil_output', 'dml_ranks_boost_clr_sc.tsv'), sep=\"\\t\", index_col=0).T)\n",
    "# rankz.append(pd.read_csv(os.path.join('./results/clr', 'coefficients.tsv'), sep=\"\\t\", index_col=0).T)\n",
    "# rankz.append(pd.read_csv(os.path.join('./results/clr_sc', 'coefficients.tsv'), sep=\"\\t\", index_col=0).T)\n",
    "# rankz.append(pd.read_csv(os.path.join('./results/clr_min', 'coefficients.tsv'), sep=\"\\t\", index_col=0).T)\n",
    "# rankz.append(pd.read_csv(os.path.join('./results/clr_sc_min', 'coefficients.tsv'), sep=\"\\t\", index_col=0).T)\n",
    "# rankz.append(pd.read_csv(os.path.join('./results/clr_sep', 'coefficients.tsv'), sep=\"\\t\", index_col=0).T)\n",
    "# rankz.append(pd.read_csv(os.path.join('./results/clr_sep_min', 'coefficients.tsv'), sep=\"\\t\", index_col=0).T)\n",
    "\n",
    "# rankz.append(pd.read_csv(os.path.join('./results/automl_rf_short', 'coefficients.tsv'), sep=\"\\t\", index_col=0).T)\n",
    "# rankz.append(pd.read_csv(os.path.join('./results/automl_rf_short_clr', 'coefficients.tsv'), sep=\"\\t\", index_col=0).T)\n",
    "# rankz.append(pd.read_csv(os.path.join('./results/automl_xgboost_short', 'coefficients.tsv'), sep=\"\\t\", index_col=0).T)\n",
    "# rankz.append(pd.read_csv(os.path.join('./results/automl_xgboost_short_clr', 'coefficients.tsv'), sep=\"\\t\", index_col=0).T)\n",
    "# rankz.append(pd.read_csv(os.path.join('./results/automl_rf_long', 'coefficients.tsv'), sep=\"\\t\", index_col=0).T)\n",
    "# rankz.append(pd.read_csv(os.path.join('./results/automl_rf_long_clr', 'coefficients.tsv'), sep=\"\\t\", index_col=0).T)\n",
    "# rankz.append(pd.read_csv(os.path.join('./results/automl_xgboost_long', 'coefficients.tsv'), sep=\"\\t\", index_col=0).T)\n",
    "# rankz.append(pd.read_csv(os.path.join('./results/automl_xgboost_long_clr', 'coefficients.tsv'), sep=\"\\t\", index_col=0).T)"
   ],
   "outputs": [],
   "execution_count": 62
  },
  {
   "cell_type": "code",
   "metadata": {
    "ExecuteTime": {
     "end_time": "2025-06-10T11:27:39.037026Z",
     "start_time": "2025-06-10T11:27:38.049247Z"
    }
   },
   "source": [
    "def roc_f(ranks, tool):\n",
    "    r = ranks.T[['rplo 1 (Cyanobacteria)']].loc[metabolites].T\n",
    "    if tool == 'phi':\n",
    "        r = 1 / r\n",
    "\n",
    "    res = _edge_roc_curve(r, edges, k_max=40)\n",
    "    return res\n",
    "\n",
    "# Include DML rank names\n",
    "# tools.append('DML rf')\n",
    "# tools.append('DML_Norm')\n",
    "# tools.append('DML lr')\n",
    "# tools.append('DML lr CLR sc')\n",
    "# tools.append('DML boost')\n",
    "# tools.append('DML boost CLR sc')\n",
    "tools.append('DML xgboost')\n",
    "tools.append('DML xgboost clr')\n",
    "tools.append('DML xgboost clr(sep)')\n",
    "# tools.append('DML CLR')\n",
    "# tools.append('DML CLR (sc)')\n",
    "# tools.append('DML CLR (min)')\n",
    "# tools.append('DML CLR (sc min)')\n",
    "# tools.append('DML CLR sep')\n",
    "# tools.append('DML CLR sep (min)')\n",
    "#\n",
    "# tools.append('DML automl rf (short)')\n",
    "# tools.append('DML automl rf clr (short)')\n",
    "# tools.append('DML automl xgboost (short)')\n",
    "# tools.append('DML automl xgboost clr (short)')\n",
    "# tools.append('DML automl rf (long)')\n",
    "# tools.append('DML automl rf clr (long)')\n",
    "# tools.append('DML automl xgboost (long)')\n",
    "# tools.append('DML automl xgboost clr (long)')\n",
    "rocs = list(map(lambda x: roc_f(x[0], x[1]), zip(rankz, tools)))"
   ],
   "outputs": [],
   "execution_count": 63
  },
  {
   "cell_type": "code",
   "metadata": {
    "ExecuteTime": {
     "end_time": "2025-06-10T11:27:39.170512Z",
     "start_time": "2025-06-10T11:27:39.111175Z"
    }
   },
   "source": [
    "for res in rocs:\n",
    "    for df in res:\n",
    "        df['TPR'] = df.apply(sensitivity, axis=1)\n",
    "        df['TNR'] = df.apply(specificity, axis=1)\n",
    "        df['precision'] = df.apply(precision, axis=1)\n",
    "        df['recall'] = df.apply(recall, axis=1)\n",
    "        df['f1_score'] = df.apply(f1, axis=1)"
   ],
   "outputs": [
    {
     "name": "stderr",
     "output_type": "stream",
     "text": [
      "/tmp/ipykernel_8446/1052544215.py:1: RuntimeWarning: invalid value encountered in long_scalars\n",
      "  sensitivity = lambda x: x['TP'] / (x['TP'] + x['FN'])\n",
      "/tmp/ipykernel_8446/1052544215.py:4: RuntimeWarning: invalid value encountered in double_scalars\n",
      "  recall = lambda x: x['TP'] / (x['TP'] + x['FN'])\n",
      "/tmp/ipykernel_8446/1052544215.py:1: RuntimeWarning: invalid value encountered in long_scalars\n",
      "  sensitivity = lambda x: x['TP'] / (x['TP'] + x['FN'])\n",
      "/tmp/ipykernel_8446/1052544215.py:4: RuntimeWarning: invalid value encountered in double_scalars\n",
      "  recall = lambda x: x['TP'] / (x['TP'] + x['FN'])\n",
      "/tmp/ipykernel_8446/1052544215.py:5: RuntimeWarning: invalid value encountered in double_scalars\n",
      "  f1 = lambda x: 2 * x['precision'] * x['recall'] / (x['precision'] + x['recall'])\n",
      "/tmp/ipykernel_8446/1052544215.py:1: RuntimeWarning: invalid value encountered in long_scalars\n",
      "  sensitivity = lambda x: x['TP'] / (x['TP'] + x['FN'])\n",
      "/tmp/ipykernel_8446/1052544215.py:4: RuntimeWarning: invalid value encountered in double_scalars\n",
      "  recall = lambda x: x['TP'] / (x['TP'] + x['FN'])\n",
      "/tmp/ipykernel_8446/1052544215.py:1: RuntimeWarning: invalid value encountered in long_scalars\n",
      "  sensitivity = lambda x: x['TP'] / (x['TP'] + x['FN'])\n",
      "/tmp/ipykernel_8446/1052544215.py:4: RuntimeWarning: invalid value encountered in double_scalars\n",
      "  recall = lambda x: x['TP'] / (x['TP'] + x['FN'])\n",
      "/tmp/ipykernel_8446/1052544215.py:5: RuntimeWarning: invalid value encountered in double_scalars\n",
      "  f1 = lambda x: 2 * x['precision'] * x['recall'] / (x['precision'] + x['recall'])\n",
      "/tmp/ipykernel_8446/1052544215.py:1: RuntimeWarning: invalid value encountered in long_scalars\n",
      "  sensitivity = lambda x: x['TP'] / (x['TP'] + x['FN'])\n",
      "/tmp/ipykernel_8446/1052544215.py:4: RuntimeWarning: invalid value encountered in double_scalars\n",
      "  recall = lambda x: x['TP'] / (x['TP'] + x['FN'])\n",
      "/tmp/ipykernel_8446/1052544215.py:1: RuntimeWarning: invalid value encountered in long_scalars\n",
      "  sensitivity = lambda x: x['TP'] / (x['TP'] + x['FN'])\n",
      "/tmp/ipykernel_8446/1052544215.py:4: RuntimeWarning: invalid value encountered in double_scalars\n",
      "  recall = lambda x: x['TP'] / (x['TP'] + x['FN'])\n",
      "/tmp/ipykernel_8446/1052544215.py:5: RuntimeWarning: invalid value encountered in double_scalars\n",
      "  f1 = lambda x: 2 * x['precision'] * x['recall'] / (x['precision'] + x['recall'])\n",
      "/tmp/ipykernel_8446/1052544215.py:1: RuntimeWarning: invalid value encountered in long_scalars\n",
      "  sensitivity = lambda x: x['TP'] / (x['TP'] + x['FN'])\n",
      "/tmp/ipykernel_8446/1052544215.py:4: RuntimeWarning: invalid value encountered in double_scalars\n",
      "  recall = lambda x: x['TP'] / (x['TP'] + x['FN'])\n",
      "/tmp/ipykernel_8446/1052544215.py:1: RuntimeWarning: invalid value encountered in long_scalars\n",
      "  sensitivity = lambda x: x['TP'] / (x['TP'] + x['FN'])\n",
      "/tmp/ipykernel_8446/1052544215.py:4: RuntimeWarning: invalid value encountered in double_scalars\n",
      "  recall = lambda x: x['TP'] / (x['TP'] + x['FN'])\n"
     ]
    }
   ],
   "execution_count": 64
  },
  {
   "cell_type": "code",
   "metadata": {
    "ExecuteTime": {
     "end_time": "2025-06-10T11:29:14.700039Z",
     "start_time": "2025-06-10T11:29:14.299775Z"
    }
   },
   "source": [
    "# mpl.rcParams['axes.prop_cycle'] = mpl.cycler(color=[\"k\", \"b\", \"g\", \"r\", \"y\"])\n",
    "fig, ax = plt.subplots(figsize=(6, 4))\n",
    "#plt.subplots_adjust(wspace=0.4, hspace=0.5)\n",
    "\n",
    "for i, (tool, roc) in enumerate(zip(tools, rocs)):\n",
    "    lw = 3 - 1.5 * i / len(rocs)\n",
    "    ls = [ '-', '--', '-.', ':'][i % 4]\n",
    "    colors = [\"C0\", \"C4\", \"C5\", \"C6\"] # colors for xgboost figure\n",
    "    ax.plot(roc[0]['TP'], label=tool, linewidth=lw, linestyle=ls)\n",
    "    ax.set_ylabel('True positives', fontsize=18)\n",
    "    ax.set_xlabel('top K hits', fontsize=18)\n",
    "    ax.tick_params(axis=\"x\", labelsize=14)\n",
    "    ax.tick_params(axis=\"y\", labelsize=14)\n",
    "    ax.xaxis.set_major_locator(plt.MaxNLocator(4))\n",
    "    ax.yaxis.set_major_locator(plt.MaxNLocator(4))\n",
    "\n",
    "ax.set_title('Microcoleus molecular detection rate', fontsize=18)\n",
    "ax.legend(loc='center left', bbox_to_anchor=(1, 0.5), fontsize=14)\n",
    "\n",
    "timestamp = datetime.datetime.now().strftime(\"%Y-%m-%d_%H:%M:%S\")\n",
    "plt.savefig(f\"./figures/biocrust_clr_{timestamp}.png\", bbox_inches='tight')"
   ],
   "outputs": [
    {
     "data": {
      "text/plain": [
       "<Figure size 600x400 with 1 Axes>"
      ],
      "image/png": "[encoded data removed]"
     },
     "metadata": {},
     "output_type": "display_data"
    }
   ],
   "execution_count": 67
  },
  {
   "metadata": {
    "ExecuteTime": {
     "end_time": "2025-06-09T16:18:29.256273Z",
     "start_time": "2025-06-09T16:18:29.236416Z"
    }
   },
   "cell_type": "code",
   "source": [
    "for i in range(len(rankz)):\n",
    "    print(tools[i])\n",
    "    test = rankz[i].T[['rplo 1 (Cyanobacteria)']]\n",
    "    coeff = test.sort_values('rplo 1 (Cyanobacteria)', ascending=False)\n",
    "    coeff['rank'] = range(0, coeff.shape[0])\n",
    "    coeff = coeff.loc[microcoleus_metabolites].sort_values('rank')\n",
    "    print(coeff)"
   ],
   "outputs": [
    {
     "name": "stdout",
     "output_type": "stream",
     "text": [
      "mmvec\n",
      "                      rplo 1 (Cyanobacteria)  rank\n",
      "adenosine                           5.036277     0\n",
      "adenine                             4.912609     1\n",
      "(N6-acetyl-lysine)                  4.389718     2\n",
      "4-guanidinobutanoate                4.026928     3\n",
      "cytosine                            3.163511     6\n",
      "guanine                             3.013095     9\n",
      "uracil                              1.736077    19\n",
      "N-acetylornithine                   1.205776    24\n",
      "(3-methyladenine)                   0.888059    29\n",
      "succinate                           0.826163    30\n",
      "xanthine                            0.740586    31\n",
      "hypoxanthine                        0.645392    35\n",
      "7-methyladenine                     0.267562    38\n",
      "N-acetyl-glutamate                 -0.762944    52\n",
      "DML xgboost\n",
      "                      rplo 1 (Cyanobacteria)  rank\n",
      "adenosine                      142024.124739     1\n",
      "adenine                        141540.572908     2\n",
      "guanine                         24719.184792     4\n",
      "(N6-acetyl-lysine)              10221.953860     5\n",
      "uracil                           3223.999838    10\n",
      "hypoxanthine                     2992.442553    11\n",
      "(3-methyladenine)                1104.676942    16\n",
      "N-acetyl-glutamate                241.419808    22\n",
      "cytosine                          165.927120    24\n",
      "N-acetylornithine               -1122.859343    62\n",
      "succinate                       -1544.333477    64\n",
      "xanthine                        -4261.492796    72\n",
      "7-methyladenine                 -8907.901401    77\n",
      "4-guanidinobutanoate           -63342.997745    84\n",
      "DML xgboost clr\n",
      "                      rplo 1 (Cyanobacteria)  rank\n",
      "xanthine                            1.038182     5\n",
      "7-methyladenine                     1.033272     7\n",
      "hypoxanthine                        1.025715    12\n",
      "guanine                             1.020303    16\n",
      "uracil                              1.015149    23\n",
      "(3-methyladenine)                   1.012911    25\n",
      "(N6-acetyl-lysine)                  1.011070    32\n",
      "4-guanidinobutanoate                1.010370    34\n",
      "N-acetyl-glutamate                  1.008222    37\n",
      "adenine                             1.004369    47\n",
      "succinate                           1.003064    48\n",
      "N-acetylornithine                   1.000861    50\n",
      "cytosine                            0.997683    54\n",
      "adenosine                           0.986321    65\n",
      "DML xgboost clr(sep)\n",
      "                      rplo 1 (Cyanobacteria)  rank\n",
      "xanthine                            0.059374     4\n",
      "(3-methyladenine)                   0.049679    25\n",
      "hypoxanthine                        0.049665    26\n",
      "N-acetyl-glutamate                  0.049422    30\n",
      "adenine                             0.046950    36\n",
      "guanine                             0.046723    37\n",
      "N-acetylornithine                   0.042885    47\n",
      "uracil                              0.037749    52\n",
      "adenosine                           0.034553    56\n",
      "(N6-acetyl-lysine)                  0.033817    57\n",
      "7-methyladenine                     0.033179    59\n",
      "4-guanidinobutanoate                0.027188    70\n",
      "succinate                           0.026412    71\n",
      "cytosine                           -0.003323    83\n"
     ]
    }
   ],
   "execution_count": 27
  },
  {
   "metadata": {},
   "cell_type": "code",
   "outputs": [],
   "execution_count": null,
   "source": ""
  }
 ],
 "metadata": {
  "kernelspec": {
   "display_name": "Python 3",
   "language": "python",
   "name": "python3"
  },
  "language_info": {
   "codemirror_mode": {
    "name": "ipython",
    "version": 3
   },
   "file_extension": ".py",
   "mimetype": "text/x-python",
   "name": "python",
   "nbconvert_exporter": "python",
   "pygments_lexer": "ipython3",
   "version": "3.7.3"
  }
 },
 "nbformat": 4,
 "nbformat_minor": 2
}
