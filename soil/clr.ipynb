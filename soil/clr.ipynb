{
 "cells": [
  {
   "cell_type": "code",
   "id": "initial_id",
   "metadata": {
    "collapsed": true,
    "ExecuteTime": {
     "end_time": "2025-06-02T15:32:17.662066Z",
     "start_time": "2025-06-02T15:32:17.063200Z"
    }
   },
   "source": [
    "import pandas as pd\n",
    "import numpy as np\n",
    "from src.util import clr"
   ],
   "outputs": [],
   "execution_count": 1
  },
  {
   "metadata": {
    "ExecuteTime": {
     "end_time": "2025-06-02T15:32:17.923074Z",
     "start_time": "2025-06-02T15:32:17.889939Z"
    }
   },
   "cell_type": "code",
   "source": [
    "# Read data files\n",
    "microbes = pd.read_csv('./data/microbes.from_biom.tsv', sep='\\t', index_col=0).drop(columns=\"9hr_late\")\n",
    "metabolites = pd.read_csv('./data/metabolites.from_biom.tsv', sep='\\t', index_col=0)\n",
    "microbes = microbes.reindex(columns = metabolites.columns)"
   ],
   "id": "a243cf8e3b28fc9b",
   "outputs": [],
   "execution_count": 2
  },
  {
   "metadata": {
    "ExecuteTime": {
     "end_time": "2025-06-02T15:32:18.002901Z",
     "start_time": "2025-06-02T15:32:17.997702Z"
    }
   },
   "cell_type": "code",
   "source": [
    "# Print the smallest non-zero values in each dataframe\n",
    "print(microbes.values[microbes.values != 0].min())\n",
    "print(metabolites.values[metabolites.values != 0].min())"
   ],
   "id": "5b74cc93b6d50dc6",
   "outputs": [
    {
     "name": "stdout",
     "output_type": "stream",
     "text": [
      "9.0\n",
      "1.0\n"
     ]
    }
   ],
   "execution_count": 3
  },
  {
   "metadata": {
    "ExecuteTime": {
     "end_time": "2025-06-02T15:32:18.176594Z",
     "start_time": "2025-06-02T15:32:18.170536Z"
    }
   },
   "cell_type": "code",
   "source": [
    "# scale dataframes by dividing by the mean value\n",
    "microbes_sc = microbes/microbes.values.mean()\n",
    "metabolites_sc = metabolites/metabolites.values.mean()"
   ],
   "id": "847e7547c3493fd6",
   "outputs": [],
   "execution_count": 4
  },
  {
   "metadata": {
    "ExecuteTime": {
     "end_time": "2025-06-02T15:32:18.406594Z",
     "start_time": "2025-06-02T15:32:18.392921Z"
    }
   },
   "cell_type": "code",
   "source": [
    "# replace zeros with the smallest non-zero value in the dataframe\n",
    "microbes_min = microbes.replace(0, microbes.values[microbes.values != 0].min())\n",
    "metabolites_min = metabolites.replace(0, metabolites.values[metabolites.values != 0].min())\n",
    "\n",
    "microbes_sc_min = microbes_sc.replace(0, microbes_sc.values[microbes_sc.values != 0].min())\n",
    "metabolites_sc_min = metabolites_sc.replace(0, metabolites_sc.values[metabolites_sc.values != 0].min())"
   ],
   "id": "521b95618810efca",
   "outputs": [],
   "execution_count": 5
  },
  {
   "metadata": {
    "ExecuteTime": {
     "end_time": "2025-06-02T15:32:18.582711Z",
     "start_time": "2025-06-02T15:32:18.574936Z"
    }
   },
   "cell_type": "code",
   "source": [
    "# replace all zero's with epsilon value\n",
    "microbes.replace(0, np.nextafter(0, 1), inplace=True)\n",
    "metabolites.replace(0, np.nextafter(0, 1), inplace=True)\n",
    "microbes_sc.replace(0, np.nextafter(0, 1), inplace=True)\n",
    "metabolites_sc.replace(0, np.nextafter(0, 1), inplace=True)"
   ],
   "id": "cc0953b630b6b5a",
   "outputs": [],
   "execution_count": 6
  },
  {
   "metadata": {
    "ExecuteTime": {
     "end_time": "2025-06-02T15:32:18.734622Z",
     "start_time": "2025-06-02T15:32:18.722335Z"
    }
   },
   "cell_type": "code",
   "source": [
    "# concatenate dataframes and apply clr transformation\n",
    "concat = pd.concat([microbes, metabolites])\n",
    "concat_min = pd.concat([microbes_min, metabolites_min])\n",
    "concat_sc = pd.concat([microbes_sc, metabolites_sc])\n",
    "concat_sc_min = pd.concat([microbes_sc_min, metabolites_sc_min])\n",
    "\n",
    "clr_concat = clr(concat)\n",
    "clr_min = clr(concat_min)\n",
    "clr_sc = clr(concat_sc)\n",
    "clr_sc_min = clr(concat_sc_min)"
   ],
   "id": "a65f1c60c76d2c29",
   "outputs": [],
   "execution_count": 7
  },
  {
   "metadata": {
    "ExecuteTime": {
     "end_time": "2025-06-02T15:32:18.926013Z",
     "start_time": "2025-06-02T15:32:18.916072Z"
    }
   },
   "cell_type": "code",
   "source": [
    "# separate microbes and metabolites from transformed dataframe\n",
    "clr_microbes = clr_concat.loc[microbes.index]\n",
    "clr_metabolites = clr_concat.loc[metabolites.index]\n",
    "clr_microbes_min = clr_min.loc[microbes_min.index]\n",
    "clr_metabolites_min = clr_min.loc[metabolites_min.index]\n",
    "clr_microbes_sc = clr_sc.loc[microbes_sc.index]\n",
    "clr_metabolites_sc = clr_sc.loc[metabolites_sc.index]\n",
    "clr_microbes_sc_min = clr_sc_min.loc[microbes_sc_min.index]\n",
    "clr_metabolites_sc_min = clr_sc_min.loc[metabolites_sc_min.index]"
   ],
   "id": "2484ffd7e02dff77",
   "outputs": [],
   "execution_count": 8
  },
  {
   "metadata": {
    "ExecuteTime": {
     "end_time": "2025-06-02T15:32:19.406665Z",
     "start_time": "2025-06-02T15:32:19.262451Z"
    }
   },
   "cell_type": "code",
   "source": [
    "# save to file\n",
    "clr_microbes.to_csv('./data/clr_microbes.tsv', sep='\\t', index=True)\n",
    "clr_metabolites.to_csv('./data/clr_metabolites.tsv', sep='\\t', index=True)\n",
    "clr_microbes_min.to_csv('./data/clr_microbes_min.tsv', sep='\\t', index=True)\n",
    "clr_metabolites_min.to_csv('./data/clr_metabolites_min.tsv', sep='\\t', index=True)\n",
    "clr_microbes_sc.to_csv('./data/clr_microbes_sc.tsv', sep='\\t', index=True)\n",
    "clr_metabolites_sc.to_csv('./data/clr_metabolites_sc.tsv', sep='\\t', index=True)\n",
    "clr_microbes_sc_min.to_csv('./data/clr_microbes_sc_min.tsv', sep='\\t', index=True)\n",
    "clr_metabolites_sc_min.to_csv('./data/clr_metabolites_sc_min.tsv', sep='\\t', index=True)"
   ],
   "id": "2b4ed692770d8d80",
   "outputs": [],
   "execution_count": 9
  },
  {
   "metadata": {
    "ExecuteTime": {
     "end_time": "2025-06-02T15:32:19.636066Z",
     "start_time": "2025-06-02T15:32:19.632071Z"
    }
   },
   "cell_type": "code",
   "source": "",
   "id": "b055fd52156ca475",
   "outputs": [],
   "execution_count": null
  }
 ],
 "metadata": {
  "kernelspec": {
   "display_name": "Python 3",
   "language": "python",
   "name": "python3"
  },
  "language_info": {
   "codemirror_mode": {
    "name": "ipython",
    "version": 2
   },
   "file_extension": ".py",
   "mimetype": "text/x-python",
   "name": "python",
   "nbconvert_exporter": "python",
   "pygments_lexer": "ipython2",
   "version": "2.7.6"
  }
 },
 "nbformat": 4,
 "nbformat_minor": 5
}
