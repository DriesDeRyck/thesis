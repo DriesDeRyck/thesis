{
 "cells": [
  {
   "metadata": {
    "ExecuteTime": {
     "end_time": "2025-06-02T21:43:40.203138Z",
     "start_time": "2025-06-02T21:43:39.931980Z"
    }
   },
   "cell_type": "code",
   "source": "import pandas as pd",
   "id": "408225bafa23b85a",
   "outputs": [],
   "execution_count": 1
  },
  {
   "metadata": {
    "ExecuteTime": {
     "end_time": "2025-06-02T21:43:40.350112Z",
     "start_time": "2025-06-02T21:43:40.324591Z"
    }
   },
   "cell_type": "code",
   "source": [
    "microbes = pd.read_csv(\"./data/microbes.from_biom.tsv\", sep=\"\\t\", index_col=0, header=1)\n",
    "metabolites = pd.read_csv(\"./data/metabolites.from_biom.tsv\", sep=\"\\t\", index_col=0, header=1)\n",
    "# drop the 9hr_late sample from the microbes, as it is not present in the metabolites file, and we need samples to be present in both\n",
    "microbes.drop(columns=\"9hr_late\", inplace=True)\n",
    "# order the columns of the microbes the same as the columns of the metabolites\n",
    "microbes = microbes.reindex(columns=metabolites.columns)\n",
    "# save dataframes to file\n",
    "microbes.to_csv(\"./data/microbes.tsv\", sep=\"\\t\", index=True)\n",
    "metabolites.to_csv(\"./data/metabolites.tsv\", sep=\"\\t\", index=True)"
   ],
   "id": "initial_id",
   "outputs": [],
   "execution_count": 2
  },
  {
   "metadata": {
    "ExecuteTime": {
     "end_time": "2025-06-02T21:43:40.388542Z",
     "start_time": "2025-06-02T21:43:40.386387Z"
    }
   },
   "cell_type": "code",
   "source": "",
   "id": "23c159bf464ea477",
   "outputs": [],
   "execution_count": null
  }
 ],
 "metadata": {
  "kernelspec": {
   "display_name": "Python 3",
   "language": "python",
   "name": "python3"
  },
  "language_info": {
   "codemirror_mode": {
    "name": "ipython",
    "version": 2
   },
   "file_extension": ".py",
   "mimetype": "text/x-python",
   "name": "python",
   "nbconvert_exporter": "python",
   "pygments_lexer": "ipython2",
   "version": "2.7.6"
  }
 },
 "nbformat": 4,
 "nbformat_minor": 5
}
